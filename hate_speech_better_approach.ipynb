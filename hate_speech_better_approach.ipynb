{
 "cells": [
  {
   "cell_type": "markdown",
   "id": "a2b9a779",
   "metadata": {},
   "source": [
    "# Hate & Offensive Speech Classification Pipeline\n",
    "This notebook walks through loading data, preprocessing text, building a TF–IDF + Decision Tree pipeline, evaluating, and hyperparameter tuning."
   ]
  },
  {
   "cell_type": "code",
   "execution_count": 1,
   "id": "cad9cdb8",
   "metadata": {},
   "outputs": [
    {
     "ename": "ModuleNotFoundError",
     "evalue": "No module named 'pandas'",
     "output_type": "error",
     "traceback": [
      "\u001b[31m---------------------------------------------------------------------------\u001b[39m",
      "\u001b[31mModuleNotFoundError\u001b[39m                       Traceback (most recent call last)",
      "\u001b[36mCell\u001b[39m\u001b[36m \u001b[39m\u001b[32mIn[1]\u001b[39m\u001b[32m, line 1\u001b[39m\n\u001b[32m----> \u001b[39m\u001b[32m1\u001b[39m \u001b[38;5;28;01mimport\u001b[39;00m\u001b[38;5;250m \u001b[39m\u001b[34;01mpandas\u001b[39;00m\u001b[38;5;250m \u001b[39m\u001b[38;5;28;01mas\u001b[39;00m\u001b[38;5;250m \u001b[39m\u001b[34;01mpd\u001b[39;00m\n\u001b[32m      2\u001b[39m \u001b[38;5;28;01mimport\u001b[39;00m\u001b[38;5;250m \u001b[39m\u001b[34;01mnumpy\u001b[39;00m\u001b[38;5;250m \u001b[39m\u001b[38;5;28;01mas\u001b[39;00m\u001b[38;5;250m \u001b[39m\u001b[34;01mnp\u001b[39;00m\n\u001b[32m      3\u001b[39m \u001b[38;5;28;01mimport\u001b[39;00m\u001b[38;5;250m \u001b[39m\u001b[34;01mos\u001b[39;00m\n",
      "\u001b[31mModuleNotFoundError\u001b[39m: No module named 'pandas'"
     ]
    }
   ],
   "source": [
    "import pandas as pd\n",
    "import numpy as np\n",
    "import os\n",
    "from cleantext import clean\n",
    "import spacy\n",
    "from sklearn.feature_extraction.text import TfidfVectorizer\n",
    "from sklearn.model_selection import train_test_split, GridSearchCV\n",
    "from sklearn.pipeline import Pipeline\n",
    "from sklearn.tree import DecisionTreeClassifier\n",
    "from sklearn.metrics import accuracy_score, classification_report, confusion_matrix\n",
    "import nbformat"
   ]
  },
  {
   "cell_type": "markdown",
   "id": "20b5ca16",
   "metadata": {},
   "source": [
    "## 1. Environment Setup\n",
    "Make sure you have installed the required libraries:\n",
    "```bash\n",
    "pip install pandas scikit-learn spacy clean-text nbformat\n",
    "python -m spacy download en_core_web_sm\n",
    "```"
   ]
  },
  {
   "cell_type": "code",
   "execution_count": null,
   "id": "8b1dc80d",
   "metadata": {},
   "outputs": [],
   "source": [
    "# 2. Load & Inspect Data\n",
    "data = pd.read_csv('labeled_data.csv')\n",
    "data['label'] = data['class'].map({0: 'hate speech', 1: 'offensive language', 2: 'neither'})\n",
    "data.head(), data['label'].value_counts()"
   ]
  },
  {
   "cell_type": "code",
   "execution_count": null,
   "id": "1d82e0d6",
   "metadata": {},
   "outputs": [],
   "source": [
    "# 3. Define spaCy-based tokenizer\n",
    "nlp = spacy.load('en_core_web_sm', disable=['parser','ner'])\n",
    "def spacy_tokenizer(text):\n",
    "    # Clean with clean-text\n",
    "    cleaned = clean(\n",
    "        text,\n",
    "        no_urls=True, no_emails=True, no_digits=True,\n",
    "        no_punct=True, no_emoji=True, lower=True, lang='en'\n",
    "    )\n",
    "    doc = nlp(cleaned)\n",
    "    return [token.lemma_.strip() for token in doc if token.is_alpha and not token.is_stop]\n"
   ]
  },
  {
   "cell_type": "code",
   "execution_count": null,
   "id": "a80f57d0",
   "metadata": {},
   "outputs": [],
   "source": [
    "# 4. Build Pipeline\n",
    "pipeline = Pipeline([\n",
    "    ('tfidf', TfidfVectorizer(\n",
    "        tokenizer=spacy_tokenizer,\n",
    "        lowercase=False,\n",
    "        norm='l2',\n",
    "        max_df=0.9,\n",
    "        min_df=5,\n",
    "        ngram_range=(1,2)\n",
    "    )),\n",
    "    ('clf', DecisionTreeClassifier(max_depth=15, min_samples_leaf=5, random_state=42))\n",
    "])"
   ]
  },
  {
   "cell_type": "code",
   "execution_count": null,
   "id": "a6c9ddc5",
   "metadata": {},
   "outputs": [],
   "source": [
    "# 5. Train/Test Split & Train\n",
    "X_train, X_test, y_train, y_test = train_test_split(\n",
    "    data['tweet'], data['label'], test_size=0.33, stratify=data['label'], random_state=42\n",
    ")\n",
    "pipeline.fit(X_train, y_train)"
   ]
  },
  {
   "cell_type": "code",
   "execution_count": null,
   "id": "47f8ba5d",
   "metadata": {},
   "outputs": [],
   "source": [
    "# 6. Evaluation\n",
    "y_pred = pipeline.predict(X_test)\n",
    "print('Accuracy:', accuracy_score(y_test, y_pred))\n",
    "print('\\nClassification Report:\\n', classification_report(y_test, y_pred))\n",
    "print('\\nConfusion Matrix:\\n', confusion_matrix(y_test, y_pred))"
   ]
  },
  {
   "cell_type": "code",
   "execution_count": null,
   "id": "df2a04f6",
   "metadata": {},
   "outputs": [],
   "source": [
    "# 7. Hyperparameter Tuning with GridSearchCV\n",
    "param_grid = {\n",
    "    'tfidf__max_df': [0.8, 0.9, 1.0],\n",
    "    'tfidf__ngram_range': [(1,1), (1,2)],\n",
    "    'clf__max_depth': [10, 15, 20],\n",
    "    'clf__min_samples_leaf': [1, 5, 10]\n",
    "}\n",
    "grid = GridSearchCV(pipeline, param_grid, cv=5, scoring='f1_macro', n_jobs=-1, verbose=1)\n",
    "grid.fit(X_train, y_train)\n",
    "print('Best params:', grid.best_params_)\n",
    "print('Best CV score:', grid.best_score_)"
   ]
  }
 ],
 "metadata": {
  "kernelspec": {
   "display_name": "Python 3",
   "language": "python",
   "name": "python3"
  },
  "language_info": {
   "codemirror_mode": {
    "name": "ipython",
    "version": 3
   },
   "file_extension": ".py",
   "mimetype": "text/x-python",
   "name": "python",
   "nbconvert_exporter": "python",
   "pygments_lexer": "ipython3",
   "version": "3.11.9"
  }
 },
 "nbformat": 4,
 "nbformat_minor": 5
}
