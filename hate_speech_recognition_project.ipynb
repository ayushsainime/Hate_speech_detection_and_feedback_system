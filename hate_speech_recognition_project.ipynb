{
 "cells": [
  {
   "cell_type": "code",
   "execution_count": 1,
   "id": "2acd1840",
   "metadata": {},
   "outputs": [
    {
     "name": "stdout",
     "output_type": "stream",
     "text": [
      "Collecting nltk\n",
      "  Downloading nltk-3.9.1-py3-none-any.whl (1.5 MB)\n",
      "     ---------------------------------------- 1.5/1.5 MB 13.7 MB/s eta 0:00:00\n",
      "Collecting tqdm\n",
      "  Downloading tqdm-4.67.1-py3-none-any.whl (78 kB)\n",
      "     ---------------------------------------- 78.5/78.5 kB 4.6 MB/s eta 0:00:00\n",
      "Collecting click\n",
      "  Downloading click-8.1.8-py3-none-any.whl (98 kB)\n",
      "     ---------------------------------------- 98.2/98.2 kB ? eta 0:00:00\n",
      "Requirement already satisfied: joblib in c:\\users\\ayush\\appdata\\local\\programs\\python\\python310\\lib\\site-packages (from nltk) (1.4.2)\n",
      "Collecting regex>=2021.8.3\n",
      "  Downloading regex-2024.11.6-cp310-cp310-win_amd64.whl (274 kB)\n",
      "     -------------------------------------- 274.0/274.0 kB 8.5 MB/s eta 0:00:00\n",
      "Requirement already satisfied: colorama in c:\\users\\ayush\\appdata\\roaming\\python\\python310\\site-packages (from click->nltk) (0.4.6)\n",
      "Installing collected packages: tqdm, regex, click, nltk\n",
      "Successfully installed click-8.1.8 nltk-3.9.1 regex-2024.11.6 tqdm-4.67.1\n",
      "Note: you may need to restart the kernel to use updated packages.\n"
     ]
    },
    {
     "name": "stderr",
     "output_type": "stream",
     "text": [
      "\n",
      "[notice] A new release of pip available: 22.2.1 -> 25.0.1\n",
      "[notice] To update, run: python.exe -m pip install --upgrade pip\n"
     ]
    }
   ],
   "source": [
    "pip install nltk\n"
   ]
  },
  {
   "cell_type": "markdown",
   "id": "7858dfb1",
   "metadata": {},
   "source": [
    "## IMPORTING REQUIRED LIBRARIES"
   ]
  },
  {
   "cell_type": "code",
   "execution_count": null,
   "id": "bd8dfc34",
   "metadata": {},
   "outputs": [
    {
     "name": "stderr",
     "output_type": "stream",
     "text": [
      "[nltk_data] Downloading package stopwords to\n",
      "[nltk_data]     C:\\Users\\Ayush\\AppData\\Roaming\\nltk_data...\n",
      "[nltk_data]   Unzipping corpora\\stopwords.zip.\n"
     ]
    }
   ],
   "source": [
    "import pandas as pd \n",
    "import numpy as np \n",
    "import matplotlib.pyplot as plt \n",
    "import os \n",
    "from  sklearn.feature_extraction.text  import CountVectorizer \n",
    "from sklearn.model_selection import train_test_split \n",
    "from sklearn.tree import DecisionTreeClassifier \n",
    "import nltk \n",
    "import  re \n",
    "from nltk.corpus import stopwords \n",
    "from nltk.stem import SnowballStemmer\n",
    "\n",
    "# from  the vast text corpus ( body of large text ) import the stop words such as [ is   the , am , that , ] \n",
    "# i.e. the wprds that do not carry a meaning individually \n",
    "# \n",
    "nltk.download( 'stopwords')\n",
    "stopword = set( stopwords.words('english')) # make a set of these words by getting the stopwords from the english langage \n",
    "stemmer = SnowballStemmer( \"english\") # stemmer means to change the words to their intial or actual ( first form )  \n",
    "# eg . hating -> hate , loveing -> love so that awe can proccess only the meaing that the prds carry and leave out the unecessary \n",
    "#letters inthe processing . \n",
    "\n"
   ]
  },
  {
   "cell_type": "code",
   "execution_count": null,
   "id": "5efbf748",
   "metadata": {},
   "outputs": [
    {
     "data": {
      "text/plain": [
       "['hate',\n",
       " 'other',\n",
       " 'worst',\n",
       " 'shake',\n",
       " 'bake',\n",
       " 'love',\n",
       " 'sun',\n",
       " \"don't\",\n",
       " 'know',\n",
       " 'son',\n",
       " 'know',\n",
       " 'way',\n",
       " 'possible!']"
      ]
     },
     "execution_count": 6,
     "metadata": {},
     "output_type": "execute_result"
    }
   ],
   "source": [
    " # exaple ( cause i am doing this for the first time )\n",
    "# Sample text\n",
    "sentence = \"They are hating on others in the worst doing shaking baking lovely sun you don't know me son knowing  way possible!\"\n",
    "\n",
    "# Preprocessing\n",
    "words = sentence.lower().split()\n",
    "answer=[]\n",
    "for i in words : \n",
    "    if i  not in stopword : \n",
    "        answer.append( stemmer.stem(i))\n",
    "        \n",
    "answer        "
   ]
  },
  {
   "cell_type": "markdown",
   "id": "5671811f",
   "metadata": {},
   "source": [
    "## READING THE DATASET\n"
   ]
  },
  {
   "cell_type": "code",
   "execution_count": null,
   "id": "55cee10e",
   "metadata": {},
   "outputs": [],
   "source": [
    "\n",
    "# Set the working directory\n",
    "os.chdir(\"E:\\DATA ANLYST\\PROJECTS\\HATE SPEECH RECOGNITION\")\n",
    "\n",
    "# Load the CSV file into a DataFrame\n",
    "data = pd.read_csv(\"labeled_data.csv\")\n"
   ]
  },
  {
   "cell_type": "code",
   "execution_count": 16,
   "id": "5a641e7f",
   "metadata": {},
   "outputs": [
    {
     "data": {
      "application/vnd.microsoft.datawrangler.viewer.v0+json": {
       "columns": [
        {
         "name": "index",
         "rawType": "int64",
         "type": "integer"
        },
        {
         "name": "Unnamed: 0",
         "rawType": "int64",
         "type": "integer"
        },
        {
         "name": "count",
         "rawType": "int64",
         "type": "integer"
        },
        {
         "name": "hate_speech",
         "rawType": "int64",
         "type": "integer"
        },
        {
         "name": "offensive_language",
         "rawType": "int64",
         "type": "integer"
        },
        {
         "name": "neither",
         "rawType": "int64",
         "type": "integer"
        },
        {
         "name": "class",
         "rawType": "int64",
         "type": "integer"
        },
        {
         "name": "tweet",
         "rawType": "object",
         "type": "string"
        }
       ],
       "conversionMethod": "pd.DataFrame",
       "ref": "59dffb3d-d82b-496c-84f8-ee098b70e09e",
       "rows": [
        [
         "0",
         "0",
         "3",
         "0",
         "0",
         "3",
         "2",
         "!!! RT @mayasolovely: As a woman you shouldn't complain about cleaning up your house. &amp; as a man you should always take the trash out..."
        ],
        [
         "1",
         "1",
         "3",
         "0",
         "3",
         "0",
         "1",
         "!!!!! RT @mleew17: boy dats cold...tyga dwn bad for cuffin dat hoe in the 1st place!!"
        ],
        [
         "2",
         "2",
         "3",
         "0",
         "3",
         "0",
         "1",
         "!!!!!!! RT @UrKindOfBrand Dawg!!!! RT @80sbaby4life: You ever fuck a bitch and she start to cry? You be confused as shit"
        ],
        [
         "3",
         "3",
         "3",
         "0",
         "2",
         "1",
         "1",
         "!!!!!!!!! RT @C_G_Anderson: @viva_based she look like a tranny"
        ],
        [
         "4",
         "4",
         "6",
         "0",
         "6",
         "0",
         "1",
         "!!!!!!!!!!!!! RT @ShenikaRoberts: The shit you hear about me might be true or it might be faker than the bitch who told it to ya &#57361;"
        ],
        [
         "5",
         "5",
         "3",
         "1",
         "2",
         "0",
         "1",
         "!!!!!!!!!!!!!!!!!!\"@T_Madison_x: The shit just blows me..claim you so faithful and down for somebody but still fucking with hoes! &#128514;&#128514;&#128514;\""
        ],
        [
         "6",
         "6",
         "3",
         "0",
         "3",
         "0",
         "1",
         "!!!!!!\"@__BrighterDays: I can not just sit up and HATE on another bitch .. I got too much shit going on!\""
        ],
        [
         "7",
         "7",
         "3",
         "0",
         "3",
         "0",
         "1",
         "!!!!&#8220;@selfiequeenbri: cause I'm tired of you big bitches coming for us skinny girls!!&#8221;"
        ],
        [
         "8",
         "8",
         "3",
         "0",
         "3",
         "0",
         "1",
         "\" &amp; you might not get ya bitch back &amp; thats that \""
        ],
        [
         "9",
         "9",
         "3",
         "1",
         "2",
         "0",
         "1",
         "\" @rhythmixx_ :hobbies include: fighting Mariam\"\n\nbitch"
        ],
        [
         "10",
         "10",
         "3",
         "0",
         "3",
         "0",
         "1",
         "\" Keeks is a bitch she curves everyone \" lol I walked into a conversation like this. Smh"
        ],
        [
         "11",
         "11",
         "3",
         "0",
         "3",
         "0",
         "1",
         "\" Murda Gang bitch its Gang Land \""
        ],
        [
         "12",
         "12",
         "3",
         "0",
         "2",
         "1",
         "1",
         "\" So hoes that smoke are losers ? \" yea ... go on IG"
        ],
        [
         "13",
         "13",
         "3",
         "0",
         "3",
         "0",
         "1",
         "\" bad bitches is the only thing that i like \""
        ],
        [
         "14",
         "14",
         "3",
         "1",
         "2",
         "0",
         "1",
         "\" bitch get up off me \""
        ],
        [
         "15",
         "15",
         "3",
         "0",
         "3",
         "0",
         "1",
         "\" bitch nigga miss me with it \""
        ],
        [
         "16",
         "16",
         "3",
         "0",
         "3",
         "0",
         "1",
         "\" bitch plz whatever \""
        ],
        [
         "17",
         "17",
         "3",
         "1",
         "2",
         "0",
         "1",
         "\" bitch who do you love \""
        ],
        [
         "18",
         "18",
         "3",
         "0",
         "3",
         "0",
         "1",
         "\" bitches get cut off everyday B \""
        ],
        [
         "19",
         "19",
         "3",
         "0",
         "3",
         "0",
         "1",
         "\" black bottle &amp; a bad bitch \""
        ],
        [
         "20",
         "20",
         "3",
         "0",
         "3",
         "0",
         "1",
         "\" broke bitch cant tell me nothing \""
        ],
        [
         "21",
         "21",
         "3",
         "0",
         "3",
         "0",
         "1",
         "\" cancel that bitch like Nino \""
        ],
        [
         "22",
         "22",
         "3",
         "0",
         "3",
         "0",
         "1",
         "\" cant you see these hoes wont change \""
        ],
        [
         "23",
         "23",
         "3",
         "0",
         "3",
         "0",
         "1",
         "\" fuck no that bitch dont even suck dick \" &#128514;&#128514;&#128514; the Kermit videos bout to fuck IG up"
        ],
        [
         "24",
         "24",
         "3",
         "0",
         "3",
         "0",
         "1",
         "\" got ya bitch tip toeing on my hardwood floors \" &#128514; http://t.co/cOU2WQ5L4q"
        ],
        [
         "25",
         "25",
         "3",
         "0",
         "2",
         "1",
         "1",
         "\" her pussy lips like Heaven doors \" &#128524;"
        ],
        [
         "26",
         "26",
         "3",
         "0",
         "3",
         "0",
         "1",
         "\" hoe what its hitting for \""
        ],
        [
         "27",
         "27",
         "3",
         "0",
         "3",
         "0",
         "1",
         "\" i met that pussy on Ocean Dr . i gave that pussy a pill \" &#128524;"
        ],
        [
         "28",
         "28",
         "3",
         "0",
         "3",
         "0",
         "1",
         "\" i need a trippy bitch who fuck on Hennessy \""
        ],
        [
         "29",
         "29",
         "3",
         "0",
         "3",
         "0",
         "1",
         "\" i spend my money how i want bitch its my business \""
        ],
        [
         "30",
         "30",
         "3",
         "0",
         "3",
         "0",
         "1",
         "\" i txt my old bitch my new bitch pussy wetter \""
        ],
        [
         "31",
         "31",
         "3",
         "0",
         "3",
         "0",
         "1",
         "\" i'd say im back to the old me but my old bitches would get excited \" &#128524;"
        ],
        [
         "32",
         "32",
         "3",
         "0",
         "3",
         "0",
         "1",
         "\" if you aint bout that Murder Game pussy nigga shut up \""
        ],
        [
         "33",
         "33",
         "3",
         "0",
         "3",
         "0",
         "1",
         "\" if you're toes ain't done you pussy stinks \""
        ],
        [
         "34",
         "34",
         "3",
         "0",
         "3",
         "0",
         "1",
         "\" im done with bitter bitches its a wrap for that . if you a angry bird theres a app for that \""
        ],
        [
         "35",
         "35",
         "3",
         "0",
         "3",
         "0",
         "1",
         "\" is that ya bitch \""
        ],
        [
         "36",
         "36",
         "3",
         "0",
         "3",
         "0",
         "1",
         "\" it aint nothing to cut a bitch off \""
        ],
        [
         "37",
         "37",
         "3",
         "0",
         "3",
         "0",
         "1",
         "\" jus meet son now he ya mane ass bitches \" #Shots"
        ],
        [
         "38",
         "38",
         "3",
         "0",
         "2",
         "1",
         "1",
         "\" lames crying over hoes thats tears of a clown \""
        ],
        [
         "39",
         "39",
         "3",
         "0",
         "3",
         "0",
         "1",
         "\" like Snoop said in 94 we dont love these hoes \""
        ],
        [
         "40",
         "40",
         "3",
         "0",
         "1",
         "2",
         "2",
         "\" momma said no pussy cats inside my doghouse \""
        ],
        [
         "41",
         "41",
         "3",
         "0",
         "3",
         "0",
         "1",
         "\" most hated but the hoes favorite \" #2MW #SevenOne # http://t.co/BMdSVMc3rC"
        ],
        [
         "42",
         "42",
         "3",
         "0",
         "3",
         "0",
         "1",
         "\" nice girls bad, make me get naughty. Bad yello hoe, real nice body. Down south chick, like em real thick\" http://t.co/bzRDl3kF7U"
        ],
        [
         "43",
         "43",
         "3",
         "0",
         "3",
         "0",
         "1",
         "\" pimps up pimps up hoes down \" Future voice"
        ],
        [
         "44",
         "44",
         "3",
         "0",
         "3",
         "0",
         "1",
         "\" post a picture of that pussy get 200 likes \""
        ],
        [
         "45",
         "45",
         "3",
         "0",
         "3",
         "0",
         "1",
         "\" pussy is a powerful drug \" &#128517; #HappyHumpDay http://t.co/R8jsymiB5b"
        ],
        [
         "46",
         "46",
         "3",
         "0",
         "3",
         "0",
         "1",
         "\" quick piece of pussy call it a drive by \""
        ],
        [
         "47",
         "47",
         "3",
         "0",
         "3",
         "0",
         "1",
         "\" running round here like some brand new pussy thats bout to get fucked \""
        ],
        [
         "48",
         "48",
         "3",
         "0",
         "3",
         "0",
         "1",
         "\" these bitches even worst they'll send them guys for you \""
        ],
        [
         "49",
         "49",
         "3",
         "1",
         "2",
         "0",
         "1",
         "\" these hoes like niggas that spend money not talk bout it \""
        ]
       ],
       "shape": {
        "columns": 7,
        "rows": 24783
       }
      },
      "text/html": [
       "<div>\n",
       "<style scoped>\n",
       "    .dataframe tbody tr th:only-of-type {\n",
       "        vertical-align: middle;\n",
       "    }\n",
       "\n",
       "    .dataframe tbody tr th {\n",
       "        vertical-align: top;\n",
       "    }\n",
       "\n",
       "    .dataframe thead th {\n",
       "        text-align: right;\n",
       "    }\n",
       "</style>\n",
       "<table border=\"1\" class=\"dataframe\">\n",
       "  <thead>\n",
       "    <tr style=\"text-align: right;\">\n",
       "      <th></th>\n",
       "      <th>Unnamed: 0</th>\n",
       "      <th>count</th>\n",
       "      <th>hate_speech</th>\n",
       "      <th>offensive_language</th>\n",
       "      <th>neither</th>\n",
       "      <th>class</th>\n",
       "      <th>tweet</th>\n",
       "    </tr>\n",
       "  </thead>\n",
       "  <tbody>\n",
       "    <tr>\n",
       "      <th>0</th>\n",
       "      <td>0</td>\n",
       "      <td>3</td>\n",
       "      <td>0</td>\n",
       "      <td>0</td>\n",
       "      <td>3</td>\n",
       "      <td>2</td>\n",
       "      <td>!!! RT @mayasolovely: As a woman you shouldn't...</td>\n",
       "    </tr>\n",
       "    <tr>\n",
       "      <th>1</th>\n",
       "      <td>1</td>\n",
       "      <td>3</td>\n",
       "      <td>0</td>\n",
       "      <td>3</td>\n",
       "      <td>0</td>\n",
       "      <td>1</td>\n",
       "      <td>!!!!! RT @mleew17: boy dats cold...tyga dwn ba...</td>\n",
       "    </tr>\n",
       "    <tr>\n",
       "      <th>2</th>\n",
       "      <td>2</td>\n",
       "      <td>3</td>\n",
       "      <td>0</td>\n",
       "      <td>3</td>\n",
       "      <td>0</td>\n",
       "      <td>1</td>\n",
       "      <td>!!!!!!! RT @UrKindOfBrand Dawg!!!! RT @80sbaby...</td>\n",
       "    </tr>\n",
       "    <tr>\n",
       "      <th>3</th>\n",
       "      <td>3</td>\n",
       "      <td>3</td>\n",
       "      <td>0</td>\n",
       "      <td>2</td>\n",
       "      <td>1</td>\n",
       "      <td>1</td>\n",
       "      <td>!!!!!!!!! RT @C_G_Anderson: @viva_based she lo...</td>\n",
       "    </tr>\n",
       "    <tr>\n",
       "      <th>4</th>\n",
       "      <td>4</td>\n",
       "      <td>6</td>\n",
       "      <td>0</td>\n",
       "      <td>6</td>\n",
       "      <td>0</td>\n",
       "      <td>1</td>\n",
       "      <td>!!!!!!!!!!!!! RT @ShenikaRoberts: The shit you...</td>\n",
       "    </tr>\n",
       "    <tr>\n",
       "      <th>...</th>\n",
       "      <td>...</td>\n",
       "      <td>...</td>\n",
       "      <td>...</td>\n",
       "      <td>...</td>\n",
       "      <td>...</td>\n",
       "      <td>...</td>\n",
       "      <td>...</td>\n",
       "    </tr>\n",
       "    <tr>\n",
       "      <th>24778</th>\n",
       "      <td>25291</td>\n",
       "      <td>3</td>\n",
       "      <td>0</td>\n",
       "      <td>2</td>\n",
       "      <td>1</td>\n",
       "      <td>1</td>\n",
       "      <td>you's a muthaf***in lie &amp;#8220;@LifeAsKing: @2...</td>\n",
       "    </tr>\n",
       "    <tr>\n",
       "      <th>24779</th>\n",
       "      <td>25292</td>\n",
       "      <td>3</td>\n",
       "      <td>0</td>\n",
       "      <td>1</td>\n",
       "      <td>2</td>\n",
       "      <td>2</td>\n",
       "      <td>you've gone and broke the wrong heart baby, an...</td>\n",
       "    </tr>\n",
       "    <tr>\n",
       "      <th>24780</th>\n",
       "      <td>25294</td>\n",
       "      <td>3</td>\n",
       "      <td>0</td>\n",
       "      <td>3</td>\n",
       "      <td>0</td>\n",
       "      <td>1</td>\n",
       "      <td>young buck wanna eat!!.. dat nigguh like I ain...</td>\n",
       "    </tr>\n",
       "    <tr>\n",
       "      <th>24781</th>\n",
       "      <td>25295</td>\n",
       "      <td>6</td>\n",
       "      <td>0</td>\n",
       "      <td>6</td>\n",
       "      <td>0</td>\n",
       "      <td>1</td>\n",
       "      <td>youu got wild bitches tellin you lies</td>\n",
       "    </tr>\n",
       "    <tr>\n",
       "      <th>24782</th>\n",
       "      <td>25296</td>\n",
       "      <td>3</td>\n",
       "      <td>0</td>\n",
       "      <td>0</td>\n",
       "      <td>3</td>\n",
       "      <td>2</td>\n",
       "      <td>~~Ruffled | Ntac Eileen Dahlia - Beautiful col...</td>\n",
       "    </tr>\n",
       "  </tbody>\n",
       "</table>\n",
       "<p>24783 rows × 7 columns</p>\n",
       "</div>"
      ],
      "text/plain": [
       "       Unnamed: 0  ...                                              tweet\n",
       "0               0  ...  !!! RT @mayasolovely: As a woman you shouldn't...\n",
       "1               1  ...  !!!!! RT @mleew17: boy dats cold...tyga dwn ba...\n",
       "2               2  ...  !!!!!!! RT @UrKindOfBrand Dawg!!!! RT @80sbaby...\n",
       "3               3  ...  !!!!!!!!! RT @C_G_Anderson: @viva_based she lo...\n",
       "4               4  ...  !!!!!!!!!!!!! RT @ShenikaRoberts: The shit you...\n",
       "...           ...  ...                                                ...\n",
       "24778       25291  ...  you's a muthaf***in lie &#8220;@LifeAsKing: @2...\n",
       "24779       25292  ...  you've gone and broke the wrong heart baby, an...\n",
       "24780       25294  ...  young buck wanna eat!!.. dat nigguh like I ain...\n",
       "24781       25295  ...              youu got wild bitches tellin you lies\n",
       "24782       25296  ...  ~~Ruffled | Ntac Eileen Dahlia - Beautiful col...\n",
       "\n",
       "[24783 rows x 7 columns]"
      ]
     },
     "execution_count": 16,
     "metadata": {},
     "output_type": "execute_result"
    }
   ],
   "source": [
    "data "
   ]
  },
  {
   "cell_type": "code",
   "execution_count": null,
   "id": "fb699002",
   "metadata": {},
   "outputs": [
    {
     "data": {
      "application/vnd.microsoft.datawrangler.viewer.v0+json": {
       "columns": [
        {
         "name": "index",
         "rawType": "int64",
         "type": "integer"
        },
        {
         "name": "Unnamed: 0",
         "rawType": "int64",
         "type": "integer"
        },
        {
         "name": "count",
         "rawType": "int64",
         "type": "integer"
        },
        {
         "name": "hate_speech",
         "rawType": "int64",
         "type": "integer"
        },
        {
         "name": "offensive_language",
         "rawType": "int64",
         "type": "integer"
        },
        {
         "name": "neither",
         "rawType": "int64",
         "type": "integer"
        },
        {
         "name": "class",
         "rawType": "int64",
         "type": "integer"
        },
        {
         "name": "tweet",
         "rawType": "object",
         "type": "string"
        }
       ],
       "conversionMethod": "pd.DataFrame",
       "ref": "e6a126af-cb28-4b3b-8bef-5d7ab54c78ce",
       "rows": [
        [
         "0",
         "0",
         "3",
         "0",
         "0",
         "3",
         "2",
         "!!! RT @mayasolovely: As a woman you shouldn't complain about cleaning up your house. &amp; as a man you should always take the trash out..."
        ],
        [
         "1",
         "1",
         "3",
         "0",
         "3",
         "0",
         "1",
         "!!!!! RT @mleew17: boy dats cold...tyga dwn bad for cuffin dat hoe in the 1st place!!"
        ],
        [
         "2",
         "2",
         "3",
         "0",
         "3",
         "0",
         "1",
         "!!!!!!! RT @UrKindOfBrand Dawg!!!! RT @80sbaby4life: You ever fuck a bitch and she start to cry? You be confused as shit"
        ],
        [
         "3",
         "3",
         "3",
         "0",
         "2",
         "1",
         "1",
         "!!!!!!!!! RT @C_G_Anderson: @viva_based she look like a tranny"
        ],
        [
         "4",
         "4",
         "6",
         "0",
         "6",
         "0",
         "1",
         "!!!!!!!!!!!!! RT @ShenikaRoberts: The shit you hear about me might be true or it might be faker than the bitch who told it to ya &#57361;"
        ],
        [
         "5",
         "5",
         "3",
         "1",
         "2",
         "0",
         "1",
         "!!!!!!!!!!!!!!!!!!\"@T_Madison_x: The shit just blows me..claim you so faithful and down for somebody but still fucking with hoes! &#128514;&#128514;&#128514;\""
        ],
        [
         "6",
         "6",
         "3",
         "0",
         "3",
         "0",
         "1",
         "!!!!!!\"@__BrighterDays: I can not just sit up and HATE on another bitch .. I got too much shit going on!\""
        ],
        [
         "7",
         "7",
         "3",
         "0",
         "3",
         "0",
         "1",
         "!!!!&#8220;@selfiequeenbri: cause I'm tired of you big bitches coming for us skinny girls!!&#8221;"
        ],
        [
         "8",
         "8",
         "3",
         "0",
         "3",
         "0",
         "1",
         "\" &amp; you might not get ya bitch back &amp; thats that \""
        ],
        [
         "9",
         "9",
         "3",
         "1",
         "2",
         "0",
         "1",
         "\" @rhythmixx_ :hobbies include: fighting Mariam\"\n\nbitch"
        ],
        [
         "10",
         "10",
         "3",
         "0",
         "3",
         "0",
         "1",
         "\" Keeks is a bitch she curves everyone \" lol I walked into a conversation like this. Smh"
        ],
        [
         "11",
         "11",
         "3",
         "0",
         "3",
         "0",
         "1",
         "\" Murda Gang bitch its Gang Land \""
        ],
        [
         "12",
         "12",
         "3",
         "0",
         "2",
         "1",
         "1",
         "\" So hoes that smoke are losers ? \" yea ... go on IG"
        ],
        [
         "13",
         "13",
         "3",
         "0",
         "3",
         "0",
         "1",
         "\" bad bitches is the only thing that i like \""
        ],
        [
         "14",
         "14",
         "3",
         "1",
         "2",
         "0",
         "1",
         "\" bitch get up off me \""
        ],
        [
         "15",
         "15",
         "3",
         "0",
         "3",
         "0",
         "1",
         "\" bitch nigga miss me with it \""
        ],
        [
         "16",
         "16",
         "3",
         "0",
         "3",
         "0",
         "1",
         "\" bitch plz whatever \""
        ],
        [
         "17",
         "17",
         "3",
         "1",
         "2",
         "0",
         "1",
         "\" bitch who do you love \""
        ],
        [
         "18",
         "18",
         "3",
         "0",
         "3",
         "0",
         "1",
         "\" bitches get cut off everyday B \""
        ],
        [
         "19",
         "19",
         "3",
         "0",
         "3",
         "0",
         "1",
         "\" black bottle &amp; a bad bitch \""
        ],
        [
         "20",
         "20",
         "3",
         "0",
         "3",
         "0",
         "1",
         "\" broke bitch cant tell me nothing \""
        ],
        [
         "21",
         "21",
         "3",
         "0",
         "3",
         "0",
         "1",
         "\" cancel that bitch like Nino \""
        ],
        [
         "22",
         "22",
         "3",
         "0",
         "3",
         "0",
         "1",
         "\" cant you see these hoes wont change \""
        ],
        [
         "23",
         "23",
         "3",
         "0",
         "3",
         "0",
         "1",
         "\" fuck no that bitch dont even suck dick \" &#128514;&#128514;&#128514; the Kermit videos bout to fuck IG up"
        ],
        [
         "24",
         "24",
         "3",
         "0",
         "3",
         "0",
         "1",
         "\" got ya bitch tip toeing on my hardwood floors \" &#128514; http://t.co/cOU2WQ5L4q"
        ],
        [
         "25",
         "25",
         "3",
         "0",
         "2",
         "1",
         "1",
         "\" her pussy lips like Heaven doors \" &#128524;"
        ],
        [
         "26",
         "26",
         "3",
         "0",
         "3",
         "0",
         "1",
         "\" hoe what its hitting for \""
        ],
        [
         "27",
         "27",
         "3",
         "0",
         "3",
         "0",
         "1",
         "\" i met that pussy on Ocean Dr . i gave that pussy a pill \" &#128524;"
        ],
        [
         "28",
         "28",
         "3",
         "0",
         "3",
         "0",
         "1",
         "\" i need a trippy bitch who fuck on Hennessy \""
        ],
        [
         "29",
         "29",
         "3",
         "0",
         "3",
         "0",
         "1",
         "\" i spend my money how i want bitch its my business \""
        ],
        [
         "30",
         "30",
         "3",
         "0",
         "3",
         "0",
         "1",
         "\" i txt my old bitch my new bitch pussy wetter \""
        ],
        [
         "31",
         "31",
         "3",
         "0",
         "3",
         "0",
         "1",
         "\" i'd say im back to the old me but my old bitches would get excited \" &#128524;"
        ],
        [
         "32",
         "32",
         "3",
         "0",
         "3",
         "0",
         "1",
         "\" if you aint bout that Murder Game pussy nigga shut up \""
        ],
        [
         "33",
         "33",
         "3",
         "0",
         "3",
         "0",
         "1",
         "\" if you're toes ain't done you pussy stinks \""
        ],
        [
         "34",
         "34",
         "3",
         "0",
         "3",
         "0",
         "1",
         "\" im done with bitter bitches its a wrap for that . if you a angry bird theres a app for that \""
        ],
        [
         "35",
         "35",
         "3",
         "0",
         "3",
         "0",
         "1",
         "\" is that ya bitch \""
        ],
        [
         "36",
         "36",
         "3",
         "0",
         "3",
         "0",
         "1",
         "\" it aint nothing to cut a bitch off \""
        ],
        [
         "37",
         "37",
         "3",
         "0",
         "3",
         "0",
         "1",
         "\" jus meet son now he ya mane ass bitches \" #Shots"
        ],
        [
         "38",
         "38",
         "3",
         "0",
         "2",
         "1",
         "1",
         "\" lames crying over hoes thats tears of a clown \""
        ],
        [
         "39",
         "39",
         "3",
         "0",
         "3",
         "0",
         "1",
         "\" like Snoop said in 94 we dont love these hoes \""
        ],
        [
         "40",
         "40",
         "3",
         "0",
         "1",
         "2",
         "2",
         "\" momma said no pussy cats inside my doghouse \""
        ],
        [
         "41",
         "41",
         "3",
         "0",
         "3",
         "0",
         "1",
         "\" most hated but the hoes favorite \" #2MW #SevenOne # http://t.co/BMdSVMc3rC"
        ],
        [
         "42",
         "42",
         "3",
         "0",
         "3",
         "0",
         "1",
         "\" nice girls bad, make me get naughty. Bad yello hoe, real nice body. Down south chick, like em real thick\" http://t.co/bzRDl3kF7U"
        ],
        [
         "43",
         "43",
         "3",
         "0",
         "3",
         "0",
         "1",
         "\" pimps up pimps up hoes down \" Future voice"
        ],
        [
         "44",
         "44",
         "3",
         "0",
         "3",
         "0",
         "1",
         "\" post a picture of that pussy get 200 likes \""
        ],
        [
         "45",
         "45",
         "3",
         "0",
         "3",
         "0",
         "1",
         "\" pussy is a powerful drug \" &#128517; #HappyHumpDay http://t.co/R8jsymiB5b"
        ],
        [
         "46",
         "46",
         "3",
         "0",
         "3",
         "0",
         "1",
         "\" quick piece of pussy call it a drive by \""
        ],
        [
         "47",
         "47",
         "3",
         "0",
         "3",
         "0",
         "1",
         "\" running round here like some brand new pussy thats bout to get fucked \""
        ],
        [
         "48",
         "48",
         "3",
         "0",
         "3",
         "0",
         "1",
         "\" these bitches even worst they'll send them guys for you \""
        ],
        [
         "49",
         "49",
         "3",
         "1",
         "2",
         "0",
         "1",
         "\" these hoes like niggas that spend money not talk bout it \""
        ]
       ],
       "shape": {
        "columns": 7,
        "rows": 24783
       }
      },
      "text/html": [
       "<div>\n",
       "<style scoped>\n",
       "    .dataframe tbody tr th:only-of-type {\n",
       "        vertical-align: middle;\n",
       "    }\n",
       "\n",
       "    .dataframe tbody tr th {\n",
       "        vertical-align: top;\n",
       "    }\n",
       "\n",
       "    .dataframe thead th {\n",
       "        text-align: right;\n",
       "    }\n",
       "</style>\n",
       "<table border=\"1\" class=\"dataframe\">\n",
       "  <thead>\n",
       "    <tr style=\"text-align: right;\">\n",
       "      <th></th>\n",
       "      <th>Unnamed: 0</th>\n",
       "      <th>count</th>\n",
       "      <th>hate_speech</th>\n",
       "      <th>offensive_language</th>\n",
       "      <th>neither</th>\n",
       "      <th>class</th>\n",
       "      <th>tweet</th>\n",
       "    </tr>\n",
       "  </thead>\n",
       "  <tbody>\n",
       "    <tr>\n",
       "      <th>0</th>\n",
       "      <td>0</td>\n",
       "      <td>3</td>\n",
       "      <td>0</td>\n",
       "      <td>0</td>\n",
       "      <td>3</td>\n",
       "      <td>2</td>\n",
       "      <td>!!! RT @mayasolovely: As a woman you shouldn't...</td>\n",
       "    </tr>\n",
       "    <tr>\n",
       "      <th>1</th>\n",
       "      <td>1</td>\n",
       "      <td>3</td>\n",
       "      <td>0</td>\n",
       "      <td>3</td>\n",
       "      <td>0</td>\n",
       "      <td>1</td>\n",
       "      <td>!!!!! RT @mleew17: boy dats cold...tyga dwn ba...</td>\n",
       "    </tr>\n",
       "    <tr>\n",
       "      <th>2</th>\n",
       "      <td>2</td>\n",
       "      <td>3</td>\n",
       "      <td>0</td>\n",
       "      <td>3</td>\n",
       "      <td>0</td>\n",
       "      <td>1</td>\n",
       "      <td>!!!!!!! RT @UrKindOfBrand Dawg!!!! RT @80sbaby...</td>\n",
       "    </tr>\n",
       "    <tr>\n",
       "      <th>3</th>\n",
       "      <td>3</td>\n",
       "      <td>3</td>\n",
       "      <td>0</td>\n",
       "      <td>2</td>\n",
       "      <td>1</td>\n",
       "      <td>1</td>\n",
       "      <td>!!!!!!!!! RT @C_G_Anderson: @viva_based she lo...</td>\n",
       "    </tr>\n",
       "    <tr>\n",
       "      <th>4</th>\n",
       "      <td>4</td>\n",
       "      <td>6</td>\n",
       "      <td>0</td>\n",
       "      <td>6</td>\n",
       "      <td>0</td>\n",
       "      <td>1</td>\n",
       "      <td>!!!!!!!!!!!!! RT @ShenikaRoberts: The shit you...</td>\n",
       "    </tr>\n",
       "    <tr>\n",
       "      <th>...</th>\n",
       "      <td>...</td>\n",
       "      <td>...</td>\n",
       "      <td>...</td>\n",
       "      <td>...</td>\n",
       "      <td>...</td>\n",
       "      <td>...</td>\n",
       "      <td>...</td>\n",
       "    </tr>\n",
       "    <tr>\n",
       "      <th>24778</th>\n",
       "      <td>25291</td>\n",
       "      <td>3</td>\n",
       "      <td>0</td>\n",
       "      <td>2</td>\n",
       "      <td>1</td>\n",
       "      <td>1</td>\n",
       "      <td>you's a muthaf***in lie &amp;#8220;@LifeAsKing: @2...</td>\n",
       "    </tr>\n",
       "    <tr>\n",
       "      <th>24779</th>\n",
       "      <td>25292</td>\n",
       "      <td>3</td>\n",
       "      <td>0</td>\n",
       "      <td>1</td>\n",
       "      <td>2</td>\n",
       "      <td>2</td>\n",
       "      <td>you've gone and broke the wrong heart baby, an...</td>\n",
       "    </tr>\n",
       "    <tr>\n",
       "      <th>24780</th>\n",
       "      <td>25294</td>\n",
       "      <td>3</td>\n",
       "      <td>0</td>\n",
       "      <td>3</td>\n",
       "      <td>0</td>\n",
       "      <td>1</td>\n",
       "      <td>young buck wanna eat!!.. dat nigguh like I ain...</td>\n",
       "    </tr>\n",
       "    <tr>\n",
       "      <th>24781</th>\n",
       "      <td>25295</td>\n",
       "      <td>6</td>\n",
       "      <td>0</td>\n",
       "      <td>6</td>\n",
       "      <td>0</td>\n",
       "      <td>1</td>\n",
       "      <td>youu got wild bitches tellin you lies</td>\n",
       "    </tr>\n",
       "    <tr>\n",
       "      <th>24782</th>\n",
       "      <td>25296</td>\n",
       "      <td>3</td>\n",
       "      <td>0</td>\n",
       "      <td>0</td>\n",
       "      <td>3</td>\n",
       "      <td>2</td>\n",
       "      <td>~~Ruffled | Ntac Eileen Dahlia - Beautiful col...</td>\n",
       "    </tr>\n",
       "  </tbody>\n",
       "</table>\n",
       "<p>24783 rows × 7 columns</p>\n",
       "</div>"
      ],
      "text/plain": [
       "       Unnamed: 0  ...                                              tweet\n",
       "0               0  ...  !!! RT @mayasolovely: As a woman you shouldn't...\n",
       "1               1  ...  !!!!! RT @mleew17: boy dats cold...tyga dwn ba...\n",
       "2               2  ...  !!!!!!! RT @UrKindOfBrand Dawg!!!! RT @80sbaby...\n",
       "3               3  ...  !!!!!!!!! RT @C_G_Anderson: @viva_based she lo...\n",
       "4               4  ...  !!!!!!!!!!!!! RT @ShenikaRoberts: The shit you...\n",
       "...           ...  ...                                                ...\n",
       "24778       25291  ...  you's a muthaf***in lie &#8220;@LifeAsKing: @2...\n",
       "24779       25292  ...  you've gone and broke the wrong heart baby, an...\n",
       "24780       25294  ...  young buck wanna eat!!.. dat nigguh like I ain...\n",
       "24781       25295  ...              youu got wild bitches tellin you lies\n",
       "24782       25296  ...  ~~Ruffled | Ntac Eileen Dahlia - Beautiful col...\n",
       "\n",
       "[24783 rows x 7 columns]"
      ]
     },
     "execution_count": 17,
     "metadata": {},
     "output_type": "execute_result"
    }
   ],
   "source": []
  },
  {
   "cell_type": "markdown",
   "id": "ee6686c8",
   "metadata": {},
   "source": [
    "## CATEGORIZATION OF COMMENTS AS HATE, OFFENSIVE OR NONE\n"
   ]
  },
  {
   "cell_type": "code",
   "execution_count": 23,
   "id": "887dfc45",
   "metadata": {},
   "outputs": [],
   "source": [
    "data['labels'] = data['class'].map({0 : 'hate speech'  , 1 :'offensive language'  , 2 : 'neither hate nor offensive'} ) "
   ]
  },
  {
   "cell_type": "code",
   "execution_count": 31,
   "id": "ce546d46",
   "metadata": {},
   "outputs": [],
   "source": [
    "# selecting necessary columns \n",
    "\n",
    "data_cliff  = data[ [ 'tweet'  ,'labels' ]]"
   ]
  },
  {
   "cell_type": "code",
   "execution_count": 32,
   "id": "8fa4ea9a",
   "metadata": {},
   "outputs": [
    {
     "data": {
      "application/vnd.microsoft.datawrangler.viewer.v0+json": {
       "columns": [
        {
         "name": "index",
         "rawType": "int64",
         "type": "integer"
        },
        {
         "name": "tweet",
         "rawType": "object",
         "type": "string"
        },
        {
         "name": "labels",
         "rawType": "object",
         "type": "string"
        }
       ],
       "conversionMethod": "pd.DataFrame",
       "ref": "e1121a1f-1f52-4b4c-bb8c-ba88a812f482",
       "rows": [
        [
         "0",
         "!!! RT @mayasolovely: As a woman you shouldn't complain about cleaning up your house. &amp; as a man you should always take the trash out...",
         "neither hate nor offensive"
        ],
        [
         "1",
         "!!!!! RT @mleew17: boy dats cold...tyga dwn bad for cuffin dat hoe in the 1st place!!",
         "offensive language"
        ],
        [
         "2",
         "!!!!!!! RT @UrKindOfBrand Dawg!!!! RT @80sbaby4life: You ever fuck a bitch and she start to cry? You be confused as shit",
         "offensive language"
        ],
        [
         "3",
         "!!!!!!!!! RT @C_G_Anderson: @viva_based she look like a tranny",
         "offensive language"
        ],
        [
         "4",
         "!!!!!!!!!!!!! RT @ShenikaRoberts: The shit you hear about me might be true or it might be faker than the bitch who told it to ya &#57361;",
         "offensive language"
        ],
        [
         "5",
         "!!!!!!!!!!!!!!!!!!\"@T_Madison_x: The shit just blows me..claim you so faithful and down for somebody but still fucking with hoes! &#128514;&#128514;&#128514;\"",
         "offensive language"
        ],
        [
         "6",
         "!!!!!!\"@__BrighterDays: I can not just sit up and HATE on another bitch .. I got too much shit going on!\"",
         "offensive language"
        ],
        [
         "7",
         "!!!!&#8220;@selfiequeenbri: cause I'm tired of you big bitches coming for us skinny girls!!&#8221;",
         "offensive language"
        ],
        [
         "8",
         "\" &amp; you might not get ya bitch back &amp; thats that \"",
         "offensive language"
        ],
        [
         "9",
         "\" @rhythmixx_ :hobbies include: fighting Mariam\"\n\nbitch",
         "offensive language"
        ],
        [
         "10",
         "\" Keeks is a bitch she curves everyone \" lol I walked into a conversation like this. Smh",
         "offensive language"
        ],
        [
         "11",
         "\" Murda Gang bitch its Gang Land \"",
         "offensive language"
        ],
        [
         "12",
         "\" So hoes that smoke are losers ? \" yea ... go on IG",
         "offensive language"
        ],
        [
         "13",
         "\" bad bitches is the only thing that i like \"",
         "offensive language"
        ],
        [
         "14",
         "\" bitch get up off me \"",
         "offensive language"
        ],
        [
         "15",
         "\" bitch nigga miss me with it \"",
         "offensive language"
        ],
        [
         "16",
         "\" bitch plz whatever \"",
         "offensive language"
        ],
        [
         "17",
         "\" bitch who do you love \"",
         "offensive language"
        ],
        [
         "18",
         "\" bitches get cut off everyday B \"",
         "offensive language"
        ],
        [
         "19",
         "\" black bottle &amp; a bad bitch \"",
         "offensive language"
        ],
        [
         "20",
         "\" broke bitch cant tell me nothing \"",
         "offensive language"
        ],
        [
         "21",
         "\" cancel that bitch like Nino \"",
         "offensive language"
        ],
        [
         "22",
         "\" cant you see these hoes wont change \"",
         "offensive language"
        ],
        [
         "23",
         "\" fuck no that bitch dont even suck dick \" &#128514;&#128514;&#128514; the Kermit videos bout to fuck IG up",
         "offensive language"
        ],
        [
         "24",
         "\" got ya bitch tip toeing on my hardwood floors \" &#128514; http://t.co/cOU2WQ5L4q",
         "offensive language"
        ],
        [
         "25",
         "\" her pussy lips like Heaven doors \" &#128524;",
         "offensive language"
        ],
        [
         "26",
         "\" hoe what its hitting for \"",
         "offensive language"
        ],
        [
         "27",
         "\" i met that pussy on Ocean Dr . i gave that pussy a pill \" &#128524;",
         "offensive language"
        ],
        [
         "28",
         "\" i need a trippy bitch who fuck on Hennessy \"",
         "offensive language"
        ],
        [
         "29",
         "\" i spend my money how i want bitch its my business \"",
         "offensive language"
        ],
        [
         "30",
         "\" i txt my old bitch my new bitch pussy wetter \"",
         "offensive language"
        ],
        [
         "31",
         "\" i'd say im back to the old me but my old bitches would get excited \" &#128524;",
         "offensive language"
        ],
        [
         "32",
         "\" if you aint bout that Murder Game pussy nigga shut up \"",
         "offensive language"
        ],
        [
         "33",
         "\" if you're toes ain't done you pussy stinks \"",
         "offensive language"
        ],
        [
         "34",
         "\" im done with bitter bitches its a wrap for that . if you a angry bird theres a app for that \"",
         "offensive language"
        ],
        [
         "35",
         "\" is that ya bitch \"",
         "offensive language"
        ],
        [
         "36",
         "\" it aint nothing to cut a bitch off \"",
         "offensive language"
        ],
        [
         "37",
         "\" jus meet son now he ya mane ass bitches \" #Shots",
         "offensive language"
        ],
        [
         "38",
         "\" lames crying over hoes thats tears of a clown \"",
         "offensive language"
        ],
        [
         "39",
         "\" like Snoop said in 94 we dont love these hoes \"",
         "offensive language"
        ],
        [
         "40",
         "\" momma said no pussy cats inside my doghouse \"",
         "neither hate nor offensive"
        ],
        [
         "41",
         "\" most hated but the hoes favorite \" #2MW #SevenOne # http://t.co/BMdSVMc3rC",
         "offensive language"
        ],
        [
         "42",
         "\" nice girls bad, make me get naughty. Bad yello hoe, real nice body. Down south chick, like em real thick\" http://t.co/bzRDl3kF7U",
         "offensive language"
        ],
        [
         "43",
         "\" pimps up pimps up hoes down \" Future voice",
         "offensive language"
        ],
        [
         "44",
         "\" post a picture of that pussy get 200 likes \"",
         "offensive language"
        ],
        [
         "45",
         "\" pussy is a powerful drug \" &#128517; #HappyHumpDay http://t.co/R8jsymiB5b",
         "offensive language"
        ],
        [
         "46",
         "\" quick piece of pussy call it a drive by \"",
         "offensive language"
        ],
        [
         "47",
         "\" running round here like some brand new pussy thats bout to get fucked \"",
         "offensive language"
        ],
        [
         "48",
         "\" these bitches even worst they'll send them guys for you \"",
         "offensive language"
        ],
        [
         "49",
         "\" these hoes like niggas that spend money not talk bout it \"",
         "offensive language"
        ]
       ],
       "shape": {
        "columns": 2,
        "rows": 24783
       }
      },
      "text/html": [
       "<div>\n",
       "<style scoped>\n",
       "    .dataframe tbody tr th:only-of-type {\n",
       "        vertical-align: middle;\n",
       "    }\n",
       "\n",
       "    .dataframe tbody tr th {\n",
       "        vertical-align: top;\n",
       "    }\n",
       "\n",
       "    .dataframe thead th {\n",
       "        text-align: right;\n",
       "    }\n",
       "</style>\n",
       "<table border=\"1\" class=\"dataframe\">\n",
       "  <thead>\n",
       "    <tr style=\"text-align: right;\">\n",
       "      <th></th>\n",
       "      <th>tweet</th>\n",
       "      <th>labels</th>\n",
       "    </tr>\n",
       "  </thead>\n",
       "  <tbody>\n",
       "    <tr>\n",
       "      <th>0</th>\n",
       "      <td>!!! RT @mayasolovely: As a woman you shouldn't...</td>\n",
       "      <td>neither hate nor offensive</td>\n",
       "    </tr>\n",
       "    <tr>\n",
       "      <th>1</th>\n",
       "      <td>!!!!! RT @mleew17: boy dats cold...tyga dwn ba...</td>\n",
       "      <td>offensive language</td>\n",
       "    </tr>\n",
       "    <tr>\n",
       "      <th>2</th>\n",
       "      <td>!!!!!!! RT @UrKindOfBrand Dawg!!!! RT @80sbaby...</td>\n",
       "      <td>offensive language</td>\n",
       "    </tr>\n",
       "    <tr>\n",
       "      <th>3</th>\n",
       "      <td>!!!!!!!!! RT @C_G_Anderson: @viva_based she lo...</td>\n",
       "      <td>offensive language</td>\n",
       "    </tr>\n",
       "    <tr>\n",
       "      <th>4</th>\n",
       "      <td>!!!!!!!!!!!!! RT @ShenikaRoberts: The shit you...</td>\n",
       "      <td>offensive language</td>\n",
       "    </tr>\n",
       "    <tr>\n",
       "      <th>...</th>\n",
       "      <td>...</td>\n",
       "      <td>...</td>\n",
       "    </tr>\n",
       "    <tr>\n",
       "      <th>24778</th>\n",
       "      <td>you's a muthaf***in lie &amp;#8220;@LifeAsKing: @2...</td>\n",
       "      <td>offensive language</td>\n",
       "    </tr>\n",
       "    <tr>\n",
       "      <th>24779</th>\n",
       "      <td>you've gone and broke the wrong heart baby, an...</td>\n",
       "      <td>neither hate nor offensive</td>\n",
       "    </tr>\n",
       "    <tr>\n",
       "      <th>24780</th>\n",
       "      <td>young buck wanna eat!!.. dat nigguh like I ain...</td>\n",
       "      <td>offensive language</td>\n",
       "    </tr>\n",
       "    <tr>\n",
       "      <th>24781</th>\n",
       "      <td>youu got wild bitches tellin you lies</td>\n",
       "      <td>offensive language</td>\n",
       "    </tr>\n",
       "    <tr>\n",
       "      <th>24782</th>\n",
       "      <td>~~Ruffled | Ntac Eileen Dahlia - Beautiful col...</td>\n",
       "      <td>neither hate nor offensive</td>\n",
       "    </tr>\n",
       "  </tbody>\n",
       "</table>\n",
       "<p>24783 rows × 2 columns</p>\n",
       "</div>"
      ],
      "text/plain": [
       "                                                   tweet                      labels\n",
       "0      !!! RT @mayasolovely: As a woman you shouldn't...  neither hate nor offensive\n",
       "1      !!!!! RT @mleew17: boy dats cold...tyga dwn ba...          offensive language\n",
       "2      !!!!!!! RT @UrKindOfBrand Dawg!!!! RT @80sbaby...          offensive language\n",
       "3      !!!!!!!!! RT @C_G_Anderson: @viva_based she lo...          offensive language\n",
       "4      !!!!!!!!!!!!! RT @ShenikaRoberts: The shit you...          offensive language\n",
       "...                                                  ...                         ...\n",
       "24778  you's a muthaf***in lie &#8220;@LifeAsKing: @2...          offensive language\n",
       "24779  you've gone and broke the wrong heart baby, an...  neither hate nor offensive\n",
       "24780  young buck wanna eat!!.. dat nigguh like I ain...          offensive language\n",
       "24781              youu got wild bitches tellin you lies          offensive language\n",
       "24782  ~~Ruffled | Ntac Eileen Dahlia - Beautiful col...  neither hate nor offensive\n",
       "\n",
       "[24783 rows x 2 columns]"
      ]
     },
     "execution_count": 32,
     "metadata": {},
     "output_type": "execute_result"
    }
   ],
   "source": [
    "data_cliff"
   ]
  },
  {
   "cell_type": "markdown",
   "id": "0ba5b859",
   "metadata": {},
   "source": [
    "##  NLP BEGINS  (text processing , cleaning )\n"
   ]
  },
  {
   "cell_type": "code",
   "execution_count": 34,
   "id": "96665791",
   "metadata": {},
   "outputs": [],
   "source": [
    "def cleaning( txt) : \n",
    "    txt= str(txt).lower() \n",
    "    txt  = re.sub( '[.?]' , '' , txt)\n",
    "    txt = re.sub( 'https?://\\S|www.\\S+' , '' , txt) \n",
    "    txt = re.sub( '<.?>+' , '' , txt)\n",
    "    txt = re.sub(r'[^\\w\\s]','',txt)\n",
    "    txt = re.sub( '\\n' , '' , txt) \n",
    "    txt = re.sub('\\w\\d\\w' ,'' , txt) \n",
    "    txt = [i for i in txt.split(' ') if i not  in stopword]\n",
    "    txt = \" \".join(txt) \n",
    "    txt = [stemmer.stem(word)  for  word in txt.split(' ')]\n",
    "    txt = \" \".join(txt)\n",
    "    return txt \n",
    "\n",
    "\n",
    "\n",
    "test_txt = \"Hey there! 👋 Did you check out our new product a1b? It's amazing!!! Visit https://www.example.com now. <br>Also, check www.testsite.org for updates. New line starts here.\\nAnd this\\tline has a tab!Here's some junk: #$%^&*()_+=~`<>?/Don't forget to RSVP by 9pm. Thank you!\"\n",
    "\n",
    "\n"
   ]
  },
  {
   "cell_type": "code",
   "execution_count": 35,
   "id": "27ed5e96",
   "metadata": {},
   "outputs": [
    {
     "data": {
      "text/plain": [
       "'hey  check new product  amaz visit wwexamplecom bralso check  updat new line start hereand this\\tlin tabher junk _dont forget rsvp 9pm thank'"
      ]
     },
     "execution_count": 35,
     "metadata": {},
     "output_type": "execute_result"
    }
   ],
   "source": [
    "cleaning( test_txt)"
   ]
  },
  {
   "cell_type": "code",
   "execution_count": 36,
   "id": "a0985b83",
   "metadata": {},
   "outputs": [],
   "source": [
    "data[\"cleaned tweet\"] = data['tweet'].apply(cleaning)"
   ]
  },
  {
   "cell_type": "code",
   "execution_count": 37,
   "id": "2e690b43",
   "metadata": {},
   "outputs": [
    {
     "data": {
      "application/vnd.microsoft.datawrangler.viewer.v0+json": {
       "columns": [
        {
         "name": "index",
         "rawType": "int64",
         "type": "integer"
        },
        {
         "name": "tweet",
         "rawType": "object",
         "type": "string"
        },
        {
         "name": "labels",
         "rawType": "object",
         "type": "string"
        },
        {
         "name": "cleaned tweet",
         "rawType": "object",
         "type": "string"
        }
       ],
       "conversionMethod": "pd.DataFrame",
       "ref": "6379c1f3-6af0-426b-9133-4981427d4df5",
       "rows": [
        [
         "0",
         "!!! RT @mayasolovely: As a woman you shouldn't complain about cleaning up your house. &amp; as a man you should always take the trash out...",
         "neither hate nor offensive",
         " rt mayasolov woman shouldnt complain clean hous amp man alway take trash"
        ],
        [
         "1",
         "!!!!! RT @mleew17: boy dats cold...tyga dwn bad for cuffin dat hoe in the 1st place!!",
         "offensive language",
         " rt mlee boy dat coldtyga dwn bad cuffin dat hoe 1st place"
        ],
        [
         "2",
         "!!!!!!! RT @UrKindOfBrand Dawg!!!! RT @80sbaby4life: You ever fuck a bitch and she start to cry? You be confused as shit",
         "offensive language",
         " rt urkindofbrand dawg rt babif ever fuck bitch start cri confus shit"
        ],
        [
         "3",
         "!!!!!!!!! RT @C_G_Anderson: @viva_based she look like a tranny",
         "offensive language",
         " rt c_g_anderson viva_bas look like tranni"
        ],
        [
         "4",
         "!!!!!!!!!!!!! RT @ShenikaRoberts: The shit you hear about me might be true or it might be faker than the bitch who told it to ya &#57361;",
         "offensive language",
         " rt shenikarobert shit hear might true might faker bitch told ya 61"
        ],
        [
         "5",
         "!!!!!!!!!!!!!!!!!!\"@T_Madison_x: The shit just blows me..claim you so faithful and down for somebody but still fucking with hoes! &#128514;&#128514;&#128514;\"",
         "offensive language",
         "t_madison_x shit blow meclaim faith somebodi still fuck hoe "
        ],
        [
         "6",
         "!!!!!!\"@__BrighterDays: I can not just sit up and HATE on another bitch .. I got too much shit going on!\"",
         "offensive language",
         "__brighterday sit hate anoth bitch  got much shit go"
        ],
        [
         "7",
         "!!!!&#8220;@selfiequeenbri: cause I'm tired of you big bitches coming for us skinny girls!!&#8221;",
         "offensive language",
         "0selfiequeenbri caus im tire big bitch come us skinni girl21"
        ],
        [
         "8",
         "\" &amp; you might not get ya bitch back &amp; thats that \"",
         "offensive language",
         " amp might get ya bitch back amp that "
        ],
        [
         "9",
         "\" @rhythmixx_ :hobbies include: fighting Mariam\"\n\nbitch",
         "offensive language",
         " rhythmixx_ hobbi includ fight mariambitch"
        ],
        [
         "10",
         "\" Keeks is a bitch she curves everyone \" lol I walked into a conversation like this. Smh",
         "offensive language",
         " keek bitch curv everyon  lol walk convers like smh"
        ],
        [
         "11",
         "\" Murda Gang bitch its Gang Land \"",
         "offensive language",
         " murda gang bitch gang land "
        ],
        [
         "12",
         "\" So hoes that smoke are losers ? \" yea ... go on IG",
         "offensive language",
         " hoe smoke loser   yea  go ig"
        ],
        [
         "13",
         "\" bad bitches is the only thing that i like \"",
         "offensive language",
         " bad bitch thing like "
        ],
        [
         "14",
         "\" bitch get up off me \"",
         "offensive language",
         " bitch get "
        ],
        [
         "15",
         "\" bitch nigga miss me with it \"",
         "offensive language",
         " bitch nigga miss "
        ],
        [
         "16",
         "\" bitch plz whatever \"",
         "offensive language",
         " bitch plz whatev "
        ],
        [
         "17",
         "\" bitch who do you love \"",
         "offensive language",
         " bitch love "
        ],
        [
         "18",
         "\" bitches get cut off everyday B \"",
         "offensive language",
         " bitch get cut everyday b "
        ],
        [
         "19",
         "\" black bottle &amp; a bad bitch \"",
         "offensive language",
         " black bottl amp bad bitch "
        ],
        [
         "20",
         "\" broke bitch cant tell me nothing \"",
         "offensive language",
         " broke bitch cant tell noth "
        ],
        [
         "21",
         "\" cancel that bitch like Nino \"",
         "offensive language",
         " cancel bitch like nino "
        ],
        [
         "22",
         "\" cant you see these hoes wont change \"",
         "offensive language",
         " cant see hoe wont chang "
        ],
        [
         "23",
         "\" fuck no that bitch dont even suck dick \" &#128514;&#128514;&#128514; the Kermit videos bout to fuck IG up",
         "offensive language",
         " fuck bitch dont even suck dick   kermit video bout fuck ig"
        ],
        [
         "24",
         "\" got ya bitch tip toeing on my hardwood floors \" &#128514; http://t.co/cOU2WQ5L4q",
         "offensive language",
         " got ya bitch tip toe hardwood floor   coco4q"
        ],
        [
         "25",
         "\" her pussy lips like Heaven doors \" &#128524;",
         "offensive language",
         " pussi lip like heaven door  "
        ],
        [
         "26",
         "\" hoe what its hitting for \"",
         "offensive language",
         " hoe hit "
        ],
        [
         "27",
         "\" i met that pussy on Ocean Dr . i gave that pussy a pill \" &#128524;",
         "offensive language",
         " met pussi ocean dr  gave pussi pill  "
        ],
        [
         "28",
         "\" i need a trippy bitch who fuck on Hennessy \"",
         "offensive language",
         " need trippi bitch fuck hennessi "
        ],
        [
         "29",
         "\" i spend my money how i want bitch its my business \"",
         "offensive language",
         " spend money want bitch busi "
        ],
        [
         "30",
         "\" i txt my old bitch my new bitch pussy wetter \"",
         "offensive language",
         " txt old bitch new bitch pussi wetter "
        ],
        [
         "31",
         "\" i'd say im back to the old me but my old bitches would get excited \" &#128524;",
         "offensive language",
         " id say im back old old bitch would get excit  "
        ],
        [
         "32",
         "\" if you aint bout that Murder Game pussy nigga shut up \"",
         "offensive language",
         " aint bout murder game pussi nigga shut "
        ],
        [
         "33",
         "\" if you're toes ain't done you pussy stinks \"",
         "offensive language",
         " your toe aint done pussi stink "
        ],
        [
         "34",
         "\" im done with bitter bitches its a wrap for that . if you a angry bird theres a app for that \"",
         "offensive language",
         " im done bitter bitch wrap  angri bird there app "
        ],
        [
         "35",
         "\" is that ya bitch \"",
         "offensive language",
         " ya bitch "
        ],
        [
         "36",
         "\" it aint nothing to cut a bitch off \"",
         "offensive language",
         " aint noth cut bitch "
        ],
        [
         "37",
         "\" jus meet son now he ya mane ass bitches \" #Shots",
         "offensive language",
         " jus meet son ya mane ass bitch  shot"
        ],
        [
         "38",
         "\" lames crying over hoes thats tears of a clown \"",
         "offensive language",
         " lame cri hoe that tear clown "
        ],
        [
         "39",
         "\" like Snoop said in 94 we dont love these hoes \"",
         "offensive language",
         " like snoop said 94 dont love hoe "
        ],
        [
         "40",
         "\" momma said no pussy cats inside my doghouse \"",
         "neither hate nor offensive",
         " momma said pussi cat insid doghous "
        ],
        [
         "41",
         "\" most hated but the hoes favorite \" #2MW #SevenOne # http://t.co/BMdSVMc3rC",
         "offensive language",
         " hate hoe favorit  2mw sevenon  cobmdsvmc"
        ],
        [
         "42",
         "\" nice girls bad, make me get naughty. Bad yello hoe, real nice body. Down south chick, like em real thick\" http://t.co/bzRDl3kF7U",
         "offensive language",
         " nice girl bad make get naughti bad yello hoe real nice bodi south chick like em real thick cobzrd"
        ],
        [
         "43",
         "\" pimps up pimps up hoes down \" Future voice",
         "offensive language",
         " pimp pimp hoe  futur voic"
        ],
        [
         "44",
         "\" post a picture of that pussy get 200 likes \"",
         "offensive language",
         " post pictur pussi get  like "
        ],
        [
         "45",
         "\" pussy is a powerful drug \" &#128517; #HappyHumpDay http://t.co/R8jsymiB5b",
         "offensive language",
         " pussi power drug   happyhumpday cosymi"
        ],
        [
         "46",
         "\" quick piece of pussy call it a drive by \"",
         "offensive language",
         " quick piec pussi call drive "
        ],
        [
         "47",
         "\" running round here like some brand new pussy thats bout to get fucked \"",
         "offensive language",
         " run round like brand new pussi that bout get fuck "
        ],
        [
         "48",
         "\" these bitches even worst they'll send them guys for you \"",
         "offensive language",
         " bitch even worst theyll send guy "
        ],
        [
         "49",
         "\" these hoes like niggas that spend money not talk bout it \"",
         "offensive language",
         " hoe like nigga spend money talk bout "
        ]
       ],
       "shape": {
        "columns": 3,
        "rows": 24783
       }
      },
      "text/html": [
       "<div>\n",
       "<style scoped>\n",
       "    .dataframe tbody tr th:only-of-type {\n",
       "        vertical-align: middle;\n",
       "    }\n",
       "\n",
       "    .dataframe tbody tr th {\n",
       "        vertical-align: top;\n",
       "    }\n",
       "\n",
       "    .dataframe thead th {\n",
       "        text-align: right;\n",
       "    }\n",
       "</style>\n",
       "<table border=\"1\" class=\"dataframe\">\n",
       "  <thead>\n",
       "    <tr style=\"text-align: right;\">\n",
       "      <th></th>\n",
       "      <th>tweet</th>\n",
       "      <th>labels</th>\n",
       "      <th>cleaned tweet</th>\n",
       "    </tr>\n",
       "  </thead>\n",
       "  <tbody>\n",
       "    <tr>\n",
       "      <th>0</th>\n",
       "      <td>!!! RT @mayasolovely: As a woman you shouldn't...</td>\n",
       "      <td>neither hate nor offensive</td>\n",
       "      <td>rt mayasolov woman shouldnt complain clean ho...</td>\n",
       "    </tr>\n",
       "    <tr>\n",
       "      <th>1</th>\n",
       "      <td>!!!!! RT @mleew17: boy dats cold...tyga dwn ba...</td>\n",
       "      <td>offensive language</td>\n",
       "      <td>rt mlee boy dat coldtyga dwn bad cuffin dat h...</td>\n",
       "    </tr>\n",
       "    <tr>\n",
       "      <th>2</th>\n",
       "      <td>!!!!!!! RT @UrKindOfBrand Dawg!!!! RT @80sbaby...</td>\n",
       "      <td>offensive language</td>\n",
       "      <td>rt urkindofbrand dawg rt babif ever fuck bitc...</td>\n",
       "    </tr>\n",
       "    <tr>\n",
       "      <th>3</th>\n",
       "      <td>!!!!!!!!! RT @C_G_Anderson: @viva_based she lo...</td>\n",
       "      <td>offensive language</td>\n",
       "      <td>rt c_g_anderson viva_bas look like tranni</td>\n",
       "    </tr>\n",
       "    <tr>\n",
       "      <th>4</th>\n",
       "      <td>!!!!!!!!!!!!! RT @ShenikaRoberts: The shit you...</td>\n",
       "      <td>offensive language</td>\n",
       "      <td>rt shenikarobert shit hear might true might f...</td>\n",
       "    </tr>\n",
       "    <tr>\n",
       "      <th>...</th>\n",
       "      <td>...</td>\n",
       "      <td>...</td>\n",
       "      <td>...</td>\n",
       "    </tr>\n",
       "    <tr>\n",
       "      <th>24778</th>\n",
       "      <td>you's a muthaf***in lie &amp;#8220;@LifeAsKing: @2...</td>\n",
       "      <td>offensive language</td>\n",
       "      <td>yous muthafin lie 0lifeask pearl corey_emanuel...</td>\n",
       "    </tr>\n",
       "    <tr>\n",
       "      <th>24779</th>\n",
       "      <td>you've gone and broke the wrong heart baby, an...</td>\n",
       "      <td>neither hate nor offensive</td>\n",
       "      <td>youv gone broke wrong heart babi drove redneck...</td>\n",
       "    </tr>\n",
       "    <tr>\n",
       "      <th>24780</th>\n",
       "      <td>young buck wanna eat!!.. dat nigguh like I ain...</td>\n",
       "      <td>offensive language</td>\n",
       "      <td>young buck wanna eat dat nigguh like aint fuck...</td>\n",
       "    </tr>\n",
       "    <tr>\n",
       "      <th>24781</th>\n",
       "      <td>youu got wild bitches tellin you lies</td>\n",
       "      <td>offensive language</td>\n",
       "      <td>youu got wild bitch tellin lie</td>\n",
       "    </tr>\n",
       "    <tr>\n",
       "      <th>24782</th>\n",
       "      <td>~~Ruffled | Ntac Eileen Dahlia - Beautiful col...</td>\n",
       "      <td>neither hate nor offensive</td>\n",
       "      <td>ruffl  ntac eileen dahlia  beauti color combin...</td>\n",
       "    </tr>\n",
       "  </tbody>\n",
       "</table>\n",
       "<p>24783 rows × 3 columns</p>\n",
       "</div>"
      ],
      "text/plain": [
       "                                                   tweet  ...                                      cleaned tweet\n",
       "0      !!! RT @mayasolovely: As a woman you shouldn't...  ...   rt mayasolov woman shouldnt complain clean ho...\n",
       "1      !!!!! RT @mleew17: boy dats cold...tyga dwn ba...  ...   rt mlee boy dat coldtyga dwn bad cuffin dat h...\n",
       "2      !!!!!!! RT @UrKindOfBrand Dawg!!!! RT @80sbaby...  ...   rt urkindofbrand dawg rt babif ever fuck bitc...\n",
       "3      !!!!!!!!! RT @C_G_Anderson: @viva_based she lo...  ...          rt c_g_anderson viva_bas look like tranni\n",
       "4      !!!!!!!!!!!!! RT @ShenikaRoberts: The shit you...  ...   rt shenikarobert shit hear might true might f...\n",
       "...                                                  ...  ...                                                ...\n",
       "24778  you's a muthaf***in lie &#8220;@LifeAsKing: @2...  ...  yous muthafin lie 0lifeask pearl corey_emanuel...\n",
       "24779  you've gone and broke the wrong heart baby, an...  ...  youv gone broke wrong heart babi drove redneck...\n",
       "24780  young buck wanna eat!!.. dat nigguh like I ain...  ...  young buck wanna eat dat nigguh like aint fuck...\n",
       "24781              youu got wild bitches tellin you lies  ...                     youu got wild bitch tellin lie\n",
       "24782  ~~Ruffled | Ntac Eileen Dahlia - Beautiful col...  ...  ruffl  ntac eileen dahlia  beauti color combin...\n",
       "\n",
       "[24783 rows x 3 columns]"
      ]
     },
     "execution_count": 37,
     "metadata": {},
     "output_type": "execute_result"
    }
   ],
   "source": [
    "data "
   ]
  },
  {
   "cell_type": "markdown",
   "id": "8c170ade",
   "metadata": {},
   "source": [
    "# DATA MODELING PREP "
   ]
  },
  {
   "cell_type": "code",
   "execution_count": null,
   "id": "0729bd18",
   "metadata": {},
   "outputs": [
    {
     "name": "stdout",
     "output_type": "stream",
     "text": [
      "[' rt mayasolov woman shouldnt complain clean hous amp man alway take trash'\n",
      " ' rt mlee boy dat coldtyga dwn bad cuffin dat hoe 1st place'\n",
      " ' rt urkindofbrand dawg rt babif ever fuck bitch start cri confus shit'\n",
      " ... 'young buck wanna eat dat nigguh like aint fuckin dis'\n",
      " 'youu got wild bitch tellin lie'\n",
      " 'ruffl  ntac eileen dahlia  beauti color combin pink orang yellow amp white coll coyebvnzb']\n",
      "['neither hate nor offensive' 'offensive language' 'offensive language'\n",
      " ... 'offensive language' 'offensive language'\n",
      " 'neither hate nor offensive']\n"
     ]
    }
   ],
   "source": [
    "x = np.array( data['cleaned tweet'])\n",
    "y = np.array( data['labels'])\n",
    "print(x)\n",
    "print(y)"
   ]
  },
  {
   "cell_type": "markdown",
   "id": "156075fc",
   "metadata": {},
   "source": [
    "\n",
    "## JOINING TOKENIZED WORDS FOR TEXT PROCESSING AND TRAINING IN MODEL\n"
   ]
  },
  {
   "cell_type": "code",
   "execution_count": 41,
   "id": "8f5076c0",
   "metadata": {},
   "outputs": [],
   "source": [
    "# no need ofr this because the x and y array are already in the form of  joined sscentences . "
   ]
  },
  {
   "cell_type": "markdown",
   "id": "59001b5c",
   "metadata": {},
   "source": [
    "## INITIALIZING COUNT VECTORIZER (TEXT --> NUMERICAL REPRESENTATION BASED ON WORD COUNTS FOR TRAINING)\n"
   ]
  },
  {
   "cell_type": "code",
   "execution_count": 43,
   "id": "f611c484",
   "metadata": {},
   "outputs": [],
   "source": [
    "cv = CountVectorizer()\n",
    "x = cv.fit_transform(x) "
   ]
  },
  {
   "cell_type": "code",
   "execution_count": 45,
   "id": "3f6c9510",
   "metadata": {},
   "outputs": [],
   "source": [
    "xtrn , xtst , ytrn , ytst = train_test_split( x, y , test_size= 0.33 , random_state= 42 )"
   ]
  },
  {
   "cell_type": "code",
   "execution_count": 46,
   "id": "22326ba9",
   "metadata": {},
   "outputs": [
    {
     "data": {
      "text/html": [
       "<style>#sk-container-id-1 {\n",
       "  /* Definition of color scheme common for light and dark mode */\n",
       "  --sklearn-color-text: #000;\n",
       "  --sklearn-color-text-muted: #666;\n",
       "  --sklearn-color-line: gray;\n",
       "  /* Definition of color scheme for unfitted estimators */\n",
       "  --sklearn-color-unfitted-level-0: #fff5e6;\n",
       "  --sklearn-color-unfitted-level-1: #f6e4d2;\n",
       "  --sklearn-color-unfitted-level-2: #ffe0b3;\n",
       "  --sklearn-color-unfitted-level-3: chocolate;\n",
       "  /* Definition of color scheme for fitted estimators */\n",
       "  --sklearn-color-fitted-level-0: #f0f8ff;\n",
       "  --sklearn-color-fitted-level-1: #d4ebff;\n",
       "  --sklearn-color-fitted-level-2: #b3dbfd;\n",
       "  --sklearn-color-fitted-level-3: cornflowerblue;\n",
       "\n",
       "  /* Specific color for light theme */\n",
       "  --sklearn-color-text-on-default-background: var(--sg-text-color, var(--theme-code-foreground, var(--jp-content-font-color1, black)));\n",
       "  --sklearn-color-background: var(--sg-background-color, var(--theme-background, var(--jp-layout-color0, white)));\n",
       "  --sklearn-color-border-box: var(--sg-text-color, var(--theme-code-foreground, var(--jp-content-font-color1, black)));\n",
       "  --sklearn-color-icon: #696969;\n",
       "\n",
       "  @media (prefers-color-scheme: dark) {\n",
       "    /* Redefinition of color scheme for dark theme */\n",
       "    --sklearn-color-text-on-default-background: var(--sg-text-color, var(--theme-code-foreground, var(--jp-content-font-color1, white)));\n",
       "    --sklearn-color-background: var(--sg-background-color, var(--theme-background, var(--jp-layout-color0, #111)));\n",
       "    --sklearn-color-border-box: var(--sg-text-color, var(--theme-code-foreground, var(--jp-content-font-color1, white)));\n",
       "    --sklearn-color-icon: #878787;\n",
       "  }\n",
       "}\n",
       "\n",
       "#sk-container-id-1 {\n",
       "  color: var(--sklearn-color-text);\n",
       "}\n",
       "\n",
       "#sk-container-id-1 pre {\n",
       "  padding: 0;\n",
       "}\n",
       "\n",
       "#sk-container-id-1 input.sk-hidden--visually {\n",
       "  border: 0;\n",
       "  clip: rect(1px 1px 1px 1px);\n",
       "  clip: rect(1px, 1px, 1px, 1px);\n",
       "  height: 1px;\n",
       "  margin: -1px;\n",
       "  overflow: hidden;\n",
       "  padding: 0;\n",
       "  position: absolute;\n",
       "  width: 1px;\n",
       "}\n",
       "\n",
       "#sk-container-id-1 div.sk-dashed-wrapped {\n",
       "  border: 1px dashed var(--sklearn-color-line);\n",
       "  margin: 0 0.4em 0.5em 0.4em;\n",
       "  box-sizing: border-box;\n",
       "  padding-bottom: 0.4em;\n",
       "  background-color: var(--sklearn-color-background);\n",
       "}\n",
       "\n",
       "#sk-container-id-1 div.sk-container {\n",
       "  /* jupyter's `normalize.less` sets `[hidden] { display: none; }`\n",
       "     but bootstrap.min.css set `[hidden] { display: none !important; }`\n",
       "     so we also need the `!important` here to be able to override the\n",
       "     default hidden behavior on the sphinx rendered scikit-learn.org.\n",
       "     See: https://github.com/scikit-learn/scikit-learn/issues/21755 */\n",
       "  display: inline-block !important;\n",
       "  position: relative;\n",
       "}\n",
       "\n",
       "#sk-container-id-1 div.sk-text-repr-fallback {\n",
       "  display: none;\n",
       "}\n",
       "\n",
       "div.sk-parallel-item,\n",
       "div.sk-serial,\n",
       "div.sk-item {\n",
       "  /* draw centered vertical line to link estimators */\n",
       "  background-image: linear-gradient(var(--sklearn-color-text-on-default-background), var(--sklearn-color-text-on-default-background));\n",
       "  background-size: 2px 100%;\n",
       "  background-repeat: no-repeat;\n",
       "  background-position: center center;\n",
       "}\n",
       "\n",
       "/* Parallel-specific style estimator block */\n",
       "\n",
       "#sk-container-id-1 div.sk-parallel-item::after {\n",
       "  content: \"\";\n",
       "  width: 100%;\n",
       "  border-bottom: 2px solid var(--sklearn-color-text-on-default-background);\n",
       "  flex-grow: 1;\n",
       "}\n",
       "\n",
       "#sk-container-id-1 div.sk-parallel {\n",
       "  display: flex;\n",
       "  align-items: stretch;\n",
       "  justify-content: center;\n",
       "  background-color: var(--sklearn-color-background);\n",
       "  position: relative;\n",
       "}\n",
       "\n",
       "#sk-container-id-1 div.sk-parallel-item {\n",
       "  display: flex;\n",
       "  flex-direction: column;\n",
       "}\n",
       "\n",
       "#sk-container-id-1 div.sk-parallel-item:first-child::after {\n",
       "  align-self: flex-end;\n",
       "  width: 50%;\n",
       "}\n",
       "\n",
       "#sk-container-id-1 div.sk-parallel-item:last-child::after {\n",
       "  align-self: flex-start;\n",
       "  width: 50%;\n",
       "}\n",
       "\n",
       "#sk-container-id-1 div.sk-parallel-item:only-child::after {\n",
       "  width: 0;\n",
       "}\n",
       "\n",
       "/* Serial-specific style estimator block */\n",
       "\n",
       "#sk-container-id-1 div.sk-serial {\n",
       "  display: flex;\n",
       "  flex-direction: column;\n",
       "  align-items: center;\n",
       "  background-color: var(--sklearn-color-background);\n",
       "  padding-right: 1em;\n",
       "  padding-left: 1em;\n",
       "}\n",
       "\n",
       "\n",
       "/* Toggleable style: style used for estimator/Pipeline/ColumnTransformer box that is\n",
       "clickable and can be expanded/collapsed.\n",
       "- Pipeline and ColumnTransformer use this feature and define the default style\n",
       "- Estimators will overwrite some part of the style using the `sk-estimator` class\n",
       "*/\n",
       "\n",
       "/* Pipeline and ColumnTransformer style (default) */\n",
       "\n",
       "#sk-container-id-1 div.sk-toggleable {\n",
       "  /* Default theme specific background. It is overwritten whether we have a\n",
       "  specific estimator or a Pipeline/ColumnTransformer */\n",
       "  background-color: var(--sklearn-color-background);\n",
       "}\n",
       "\n",
       "/* Toggleable label */\n",
       "#sk-container-id-1 label.sk-toggleable__label {\n",
       "  cursor: pointer;\n",
       "  display: flex;\n",
       "  width: 100%;\n",
       "  margin-bottom: 0;\n",
       "  padding: 0.5em;\n",
       "  box-sizing: border-box;\n",
       "  text-align: center;\n",
       "  align-items: start;\n",
       "  justify-content: space-between;\n",
       "  gap: 0.5em;\n",
       "}\n",
       "\n",
       "#sk-container-id-1 label.sk-toggleable__label .caption {\n",
       "  font-size: 0.6rem;\n",
       "  font-weight: lighter;\n",
       "  color: var(--sklearn-color-text-muted);\n",
       "}\n",
       "\n",
       "#sk-container-id-1 label.sk-toggleable__label-arrow:before {\n",
       "  /* Arrow on the left of the label */\n",
       "  content: \"▸\";\n",
       "  float: left;\n",
       "  margin-right: 0.25em;\n",
       "  color: var(--sklearn-color-icon);\n",
       "}\n",
       "\n",
       "#sk-container-id-1 label.sk-toggleable__label-arrow:hover:before {\n",
       "  color: var(--sklearn-color-text);\n",
       "}\n",
       "\n",
       "/* Toggleable content - dropdown */\n",
       "\n",
       "#sk-container-id-1 div.sk-toggleable__content {\n",
       "  max-height: 0;\n",
       "  max-width: 0;\n",
       "  overflow: hidden;\n",
       "  text-align: left;\n",
       "  /* unfitted */\n",
       "  background-color: var(--sklearn-color-unfitted-level-0);\n",
       "}\n",
       "\n",
       "#sk-container-id-1 div.sk-toggleable__content.fitted {\n",
       "  /* fitted */\n",
       "  background-color: var(--sklearn-color-fitted-level-0);\n",
       "}\n",
       "\n",
       "#sk-container-id-1 div.sk-toggleable__content pre {\n",
       "  margin: 0.2em;\n",
       "  border-radius: 0.25em;\n",
       "  color: var(--sklearn-color-text);\n",
       "  /* unfitted */\n",
       "  background-color: var(--sklearn-color-unfitted-level-0);\n",
       "}\n",
       "\n",
       "#sk-container-id-1 div.sk-toggleable__content.fitted pre {\n",
       "  /* unfitted */\n",
       "  background-color: var(--sklearn-color-fitted-level-0);\n",
       "}\n",
       "\n",
       "#sk-container-id-1 input.sk-toggleable__control:checked~div.sk-toggleable__content {\n",
       "  /* Expand drop-down */\n",
       "  max-height: 200px;\n",
       "  max-width: 100%;\n",
       "  overflow: auto;\n",
       "}\n",
       "\n",
       "#sk-container-id-1 input.sk-toggleable__control:checked~label.sk-toggleable__label-arrow:before {\n",
       "  content: \"▾\";\n",
       "}\n",
       "\n",
       "/* Pipeline/ColumnTransformer-specific style */\n",
       "\n",
       "#sk-container-id-1 div.sk-label input.sk-toggleable__control:checked~label.sk-toggleable__label {\n",
       "  color: var(--sklearn-color-text);\n",
       "  background-color: var(--sklearn-color-unfitted-level-2);\n",
       "}\n",
       "\n",
       "#sk-container-id-1 div.sk-label.fitted input.sk-toggleable__control:checked~label.sk-toggleable__label {\n",
       "  background-color: var(--sklearn-color-fitted-level-2);\n",
       "}\n",
       "\n",
       "/* Estimator-specific style */\n",
       "\n",
       "/* Colorize estimator box */\n",
       "#sk-container-id-1 div.sk-estimator input.sk-toggleable__control:checked~label.sk-toggleable__label {\n",
       "  /* unfitted */\n",
       "  background-color: var(--sklearn-color-unfitted-level-2);\n",
       "}\n",
       "\n",
       "#sk-container-id-1 div.sk-estimator.fitted input.sk-toggleable__control:checked~label.sk-toggleable__label {\n",
       "  /* fitted */\n",
       "  background-color: var(--sklearn-color-fitted-level-2);\n",
       "}\n",
       "\n",
       "#sk-container-id-1 div.sk-label label.sk-toggleable__label,\n",
       "#sk-container-id-1 div.sk-label label {\n",
       "  /* The background is the default theme color */\n",
       "  color: var(--sklearn-color-text-on-default-background);\n",
       "}\n",
       "\n",
       "/* On hover, darken the color of the background */\n",
       "#sk-container-id-1 div.sk-label:hover label.sk-toggleable__label {\n",
       "  color: var(--sklearn-color-text);\n",
       "  background-color: var(--sklearn-color-unfitted-level-2);\n",
       "}\n",
       "\n",
       "/* Label box, darken color on hover, fitted */\n",
       "#sk-container-id-1 div.sk-label.fitted:hover label.sk-toggleable__label.fitted {\n",
       "  color: var(--sklearn-color-text);\n",
       "  background-color: var(--sklearn-color-fitted-level-2);\n",
       "}\n",
       "\n",
       "/* Estimator label */\n",
       "\n",
       "#sk-container-id-1 div.sk-label label {\n",
       "  font-family: monospace;\n",
       "  font-weight: bold;\n",
       "  display: inline-block;\n",
       "  line-height: 1.2em;\n",
       "}\n",
       "\n",
       "#sk-container-id-1 div.sk-label-container {\n",
       "  text-align: center;\n",
       "}\n",
       "\n",
       "/* Estimator-specific */\n",
       "#sk-container-id-1 div.sk-estimator {\n",
       "  font-family: monospace;\n",
       "  border: 1px dotted var(--sklearn-color-border-box);\n",
       "  border-radius: 0.25em;\n",
       "  box-sizing: border-box;\n",
       "  margin-bottom: 0.5em;\n",
       "  /* unfitted */\n",
       "  background-color: var(--sklearn-color-unfitted-level-0);\n",
       "}\n",
       "\n",
       "#sk-container-id-1 div.sk-estimator.fitted {\n",
       "  /* fitted */\n",
       "  background-color: var(--sklearn-color-fitted-level-0);\n",
       "}\n",
       "\n",
       "/* on hover */\n",
       "#sk-container-id-1 div.sk-estimator:hover {\n",
       "  /* unfitted */\n",
       "  background-color: var(--sklearn-color-unfitted-level-2);\n",
       "}\n",
       "\n",
       "#sk-container-id-1 div.sk-estimator.fitted:hover {\n",
       "  /* fitted */\n",
       "  background-color: var(--sklearn-color-fitted-level-2);\n",
       "}\n",
       "\n",
       "/* Specification for estimator info (e.g. \"i\" and \"?\") */\n",
       "\n",
       "/* Common style for \"i\" and \"?\" */\n",
       "\n",
       ".sk-estimator-doc-link,\n",
       "a:link.sk-estimator-doc-link,\n",
       "a:visited.sk-estimator-doc-link {\n",
       "  float: right;\n",
       "  font-size: smaller;\n",
       "  line-height: 1em;\n",
       "  font-family: monospace;\n",
       "  background-color: var(--sklearn-color-background);\n",
       "  border-radius: 1em;\n",
       "  height: 1em;\n",
       "  width: 1em;\n",
       "  text-decoration: none !important;\n",
       "  margin-left: 0.5em;\n",
       "  text-align: center;\n",
       "  /* unfitted */\n",
       "  border: var(--sklearn-color-unfitted-level-1) 1pt solid;\n",
       "  color: var(--sklearn-color-unfitted-level-1);\n",
       "}\n",
       "\n",
       ".sk-estimator-doc-link.fitted,\n",
       "a:link.sk-estimator-doc-link.fitted,\n",
       "a:visited.sk-estimator-doc-link.fitted {\n",
       "  /* fitted */\n",
       "  border: var(--sklearn-color-fitted-level-1) 1pt solid;\n",
       "  color: var(--sklearn-color-fitted-level-1);\n",
       "}\n",
       "\n",
       "/* On hover */\n",
       "div.sk-estimator:hover .sk-estimator-doc-link:hover,\n",
       ".sk-estimator-doc-link:hover,\n",
       "div.sk-label-container:hover .sk-estimator-doc-link:hover,\n",
       ".sk-estimator-doc-link:hover {\n",
       "  /* unfitted */\n",
       "  background-color: var(--sklearn-color-unfitted-level-3);\n",
       "  color: var(--sklearn-color-background);\n",
       "  text-decoration: none;\n",
       "}\n",
       "\n",
       "div.sk-estimator.fitted:hover .sk-estimator-doc-link.fitted:hover,\n",
       ".sk-estimator-doc-link.fitted:hover,\n",
       "div.sk-label-container:hover .sk-estimator-doc-link.fitted:hover,\n",
       ".sk-estimator-doc-link.fitted:hover {\n",
       "  /* fitted */\n",
       "  background-color: var(--sklearn-color-fitted-level-3);\n",
       "  color: var(--sklearn-color-background);\n",
       "  text-decoration: none;\n",
       "}\n",
       "\n",
       "/* Span, style for the box shown on hovering the info icon */\n",
       ".sk-estimator-doc-link span {\n",
       "  display: none;\n",
       "  z-index: 9999;\n",
       "  position: relative;\n",
       "  font-weight: normal;\n",
       "  right: .2ex;\n",
       "  padding: .5ex;\n",
       "  margin: .5ex;\n",
       "  width: min-content;\n",
       "  min-width: 20ex;\n",
       "  max-width: 50ex;\n",
       "  color: var(--sklearn-color-text);\n",
       "  box-shadow: 2pt 2pt 4pt #999;\n",
       "  /* unfitted */\n",
       "  background: var(--sklearn-color-unfitted-level-0);\n",
       "  border: .5pt solid var(--sklearn-color-unfitted-level-3);\n",
       "}\n",
       "\n",
       ".sk-estimator-doc-link.fitted span {\n",
       "  /* fitted */\n",
       "  background: var(--sklearn-color-fitted-level-0);\n",
       "  border: var(--sklearn-color-fitted-level-3);\n",
       "}\n",
       "\n",
       ".sk-estimator-doc-link:hover span {\n",
       "  display: block;\n",
       "}\n",
       "\n",
       "/* \"?\"-specific style due to the `<a>` HTML tag */\n",
       "\n",
       "#sk-container-id-1 a.estimator_doc_link {\n",
       "  float: right;\n",
       "  font-size: 1rem;\n",
       "  line-height: 1em;\n",
       "  font-family: monospace;\n",
       "  background-color: var(--sklearn-color-background);\n",
       "  border-radius: 1rem;\n",
       "  height: 1rem;\n",
       "  width: 1rem;\n",
       "  text-decoration: none;\n",
       "  /* unfitted */\n",
       "  color: var(--sklearn-color-unfitted-level-1);\n",
       "  border: var(--sklearn-color-unfitted-level-1) 1pt solid;\n",
       "}\n",
       "\n",
       "#sk-container-id-1 a.estimator_doc_link.fitted {\n",
       "  /* fitted */\n",
       "  border: var(--sklearn-color-fitted-level-1) 1pt solid;\n",
       "  color: var(--sklearn-color-fitted-level-1);\n",
       "}\n",
       "\n",
       "/* On hover */\n",
       "#sk-container-id-1 a.estimator_doc_link:hover {\n",
       "  /* unfitted */\n",
       "  background-color: var(--sklearn-color-unfitted-level-3);\n",
       "  color: var(--sklearn-color-background);\n",
       "  text-decoration: none;\n",
       "}\n",
       "\n",
       "#sk-container-id-1 a.estimator_doc_link.fitted:hover {\n",
       "  /* fitted */\n",
       "  background-color: var(--sklearn-color-fitted-level-3);\n",
       "}\n",
       "</style><div id=\"sk-container-id-1\" class=\"sk-top-container\"><div class=\"sk-text-repr-fallback\"><pre>DecisionTreeClassifier()</pre><b>In a Jupyter environment, please rerun this cell to show the HTML representation or trust the notebook. <br />On GitHub, the HTML representation is unable to render, please try loading this page with nbviewer.org.</b></div><div class=\"sk-container\" hidden><div class=\"sk-item\"><div class=\"sk-estimator fitted sk-toggleable\"><input class=\"sk-toggleable__control sk-hidden--visually\" id=\"sk-estimator-id-1\" type=\"checkbox\" checked><label for=\"sk-estimator-id-1\" class=\"sk-toggleable__label fitted sk-toggleable__label-arrow\"><div><div>DecisionTreeClassifier</div></div><div><a class=\"sk-estimator-doc-link fitted\" rel=\"noreferrer\" target=\"_blank\" href=\"https://scikit-learn.org/1.6/modules/generated/sklearn.tree.DecisionTreeClassifier.html\">?<span>Documentation for DecisionTreeClassifier</span></a><span class=\"sk-estimator-doc-link fitted\">i<span>Fitted</span></span></div></label><div class=\"sk-toggleable__content fitted\"><pre>DecisionTreeClassifier()</pre></div> </div></div></div></div>"
      ],
      "text/plain": [
       "DecisionTreeClassifier()"
      ]
     },
     "execution_count": 46,
     "metadata": {},
     "output_type": "execute_result"
    }
   ],
   "source": [
    "dtreeclass = DecisionTreeClassifier()\n",
    "dtreeclass.fit( xtrn , ytrn) "
   ]
  },
  {
   "cell_type": "markdown",
   "id": "cd74a437",
   "metadata": {},
   "source": [
    "# PREDICTION"
   ]
  },
  {
   "cell_type": "code",
   "execution_count": 47,
   "id": "a9a3de47",
   "metadata": {},
   "outputs": [],
   "source": [
    "ypred  = dtreeclass.predict( xtst) "
   ]
  },
  {
   "cell_type": "code",
   "execution_count": 48,
   "id": "db9dee62",
   "metadata": {},
   "outputs": [
    {
     "name": "stdout",
     "output_type": "stream",
     "text": [
      "0.8700330113705832\n"
     ]
    }
   ],
   "source": [
    "from sklearn.metrics import accuracy_score \n",
    "print( accuracy_score( ytst  , ypred ) ) "
   ]
  },
  {
   "cell_type": "code",
   "execution_count": 49,
   "id": "c8a80816",
   "metadata": {},
   "outputs": [
    {
     "name": "stdout",
     "output_type": "stream",
     "text": [
      " your accuracy off  descision treee classification model is : 87.00330113705832\n"
     ]
    }
   ],
   "source": [
    "accuracy = ( accuracy_score( ytst  , ypred ) )*100 \n",
    "print( \" your accuracy off  descision treee classification model is :\" , accuracy )"
   ]
  },
  {
   "cell_type": "code",
   "execution_count": 61,
   "id": "b1ae3fde",
   "metadata": {},
   "outputs": [
    {
     "name": "stdout",
     "output_type": "stream",
     "text": [
      "['offensive language']\n"
     ]
    }
   ],
   "source": [
    "# example to test\n",
    "kaka = \" you dumb ass bitch ,  i will kill you with a sledge hammer and  then play around with your blood , actually i am into murders and executions \"\n",
    "kaka = cv.transform( [kaka]).toarray()\n",
    "print( dtreeclass.predict( (kaka)))\n",
    "\n"
   ]
  },
  {
   "cell_type": "code",
   "execution_count": 53,
   "id": "40c920a3",
   "metadata": {},
   "outputs": [
    {
     "name": "stdout",
     "output_type": "stream",
     "text": [
      "around: 1\n",
      "ass: 1\n",
      "bitch: 1\n",
      "blood: 1\n",
      "dumb: 1\n",
      "hammer: 1\n",
      "kill: 1\n",
      "play: 1\n",
      "will: 1\n",
      "your: 1\n"
     ]
    }
   ],
   "source": [
    "# for understanding how the feature names i.e. the  column names are  visible \n",
    "\n",
    "words = cv.get_feature_names_out()\n",
    "counts = kaka[0]\n",
    "\n",
    "for word, count in zip(words, counts):\n",
    "    if count > 0:\n",
    "        print(f\"{word}: {count}\")\n"
   ]
  },
  {
   "cell_type": "markdown",
   "id": "984beca6",
   "metadata": {},
   "source": [
    "## FOR A USER  "
   ]
  },
  {
   "cell_type": "code",
   "execution_count": 63,
   "id": "a6a018d5",
   "metadata": {},
   "outputs": [
    {
     "name": "stdout",
     "output_type": "stream",
     "text": [
      "\n",
      "You typed: You typed:  You typed:  You typed:  motehr fucker , i was trying to protect you , how old is you , niggaa you look like 32 \n",
      "Prediction: offensive language\n",
      "\n",
      "--- RESPONSE ---\n",
      "Category: offensive language\n",
      "The best messages are those that inspire, not offend.\n",
      "Your words can either build up or tear down — make them count.\n",
      "I hope you refrain from sharing offensive messages moving forward.\n"
     ]
    }
   ],
   "source": [
    "user_input = input(\"Enter your comment: \")\n",
    "\n",
    "user_text_1 = cv.transform([user_input]).toarray()\n",
    "\n",
    "result = dtreeclass.predict(user_text_1)[0]  # Get the string, not ['string']\n",
    "\n",
    "print(\"\\nYou typed:\", user_input)\n",
    "print(\"Prediction:\", result)\n",
    "\n",
    "# Define your response function\n",
    "def toretto(result):\n",
    "    print(\"\\n--- RESPONSE ---\")\n",
    "    if result == \"hate speech\":\n",
    "        print(\"Category:\", result)\n",
    "        print(\"Hate is a heavy burden to bear, let kindness be your foundation.\")\n",
    "        print(\"I hope you stop spreading hate comments from now on.\")\n",
    "\n",
    "    elif result == \"offensive language\":\n",
    "        print(\"Category:\", result)\n",
    "        print(\"The best messages are those that inspire, not offend.\")\n",
    "        print(\"Your words can either build up or tear down — make them count.\")\n",
    "        print(\"I hope you refrain from sharing offensive messages moving forward.\")\n",
    "\n",
    "    elif result == \"neither hate nor offensive\":\n",
    "        print(\"Category:\", result)\n",
    "        print(\"Neither hate nor offensive words can ever create a better tomorrow.\")\n",
    "        print(\"Good Job!! Spread kindness over hate or offensive messages.\")\n",
    "\n",
    "    else:\n",
    "        print(\"Unknown category. Please check the model or input.\")\n",
    "\n",
    "# Call the response function\n",
    "toretto(result)\n"
   ]
  },
  {
   "cell_type": "code",
   "execution_count": 1,
   "id": "a688942e",
   "metadata": {},
   "outputs": [
    {
     "name": "stdout",
     "output_type": "stream",
     "text": [
      "Collecting streamlit\n",
      "  Downloading streamlit-1.44.1-py3-none-any.whl (9.8 MB)\n",
      "     ---------------------------------------- 9.8/9.8 MB 16.5 MB/s eta 0:00:00\n",
      "Collecting gitpython!=3.1.19,<4,>=3.0.7\n",
      "  Downloading GitPython-3.1.44-py3-none-any.whl (207 kB)\n",
      "     ------------------------------------- 207.6/207.6 kB 13.2 MB/s eta 0:00:00\n",
      "Requirement already satisfied: pillow<12,>=7.1.0 in c:\\users\\ayush\\appdata\\local\\programs\\python\\python310\\lib\\site-packages (from streamlit) (11.1.0)\n",
      "Collecting altair<6,>=4.0\n",
      "  Downloading altair-5.5.0-py3-none-any.whl (731 kB)\n",
      "     ------------------------------------- 731.2/731.2 kB 11.6 MB/s eta 0:00:00\n",
      "Collecting pydeck<1,>=0.8.0b4\n",
      "  Downloading pydeck-0.9.1-py2.py3-none-any.whl (6.9 MB)\n",
      "     ---------------------------------------- 6.9/6.9 MB 18.4 MB/s eta 0:00:00\n",
      "Requirement already satisfied: click<9,>=7.0 in c:\\users\\ayush\\appdata\\local\\programs\\python\\python310\\lib\\site-packages (from streamlit) (8.1.8)\n",
      "Requirement already satisfied: tornado<7,>=6.0.3 in c:\\users\\ayush\\appdata\\roaming\\python\\python310\\site-packages (from streamlit) (6.4.2)\n",
      "Requirement already satisfied: packaging<25,>=20 in c:\\users\\ayush\\appdata\\roaming\\python\\python310\\site-packages (from streamlit) (24.2)\n",
      "Collecting protobuf<6,>=3.20\n",
      "  Downloading protobuf-5.29.4-cp310-abi3-win_amd64.whl (434 kB)\n",
      "     ------------------------------------- 434.5/434.5 kB 26.5 MB/s eta 0:00:00\n",
      "Requirement already satisfied: numpy<3,>=1.23 in c:\\users\\ayush\\appdata\\local\\programs\\python\\python310\\lib\\site-packages (from streamlit) (2.2.3)\n",
      "Collecting blinker<2,>=1.0.0\n",
      "  Downloading blinker-1.9.0-py3-none-any.whl (8.5 kB)\n",
      "Collecting tenacity<10,>=8.1.0\n",
      "  Downloading tenacity-9.1.2-py3-none-any.whl (28 kB)\n",
      "Collecting cachetools<6,>=4.0\n",
      "  Downloading cachetools-5.5.2-py3-none-any.whl (10 kB)\n",
      "Collecting toml<2,>=0.10.1\n",
      "  Downloading toml-0.10.2-py2.py3-none-any.whl (16 kB)\n",
      "Requirement already satisfied: typing-extensions<5,>=4.4.0 in c:\\users\\ayush\\appdata\\roaming\\python\\python310\\site-packages (from streamlit) (4.12.2)\n",
      "Collecting watchdog<7,>=2.1.5\n",
      "  Downloading watchdog-6.0.0-py3-none-win_amd64.whl (79 kB)\n",
      "     ---------------------------------------- 79.1/79.1 kB 4.6 MB/s eta 0:00:00\n",
      "Collecting pyarrow>=7.0\n",
      "  Downloading pyarrow-19.0.1-cp310-cp310-win_amd64.whl (25.3 MB)\n",
      "     --------------------------------------- 25.3/25.3 MB 16.4 MB/s eta 0:00:00\n",
      "Requirement already satisfied: pandas<3,>=1.4.0 in c:\\users\\ayush\\appdata\\local\\programs\\python\\python310\\lib\\site-packages (from streamlit) (2.2.3)\n",
      "Collecting requests<3,>=2.27\n",
      "  Downloading requests-2.32.3-py3-none-any.whl (64 kB)\n",
      "     ---------------------------------------- 64.9/64.9 kB 3.6 MB/s eta 0:00:00\n",
      "Collecting jinja2\n",
      "  Downloading jinja2-3.1.6-py3-none-any.whl (134 kB)\n",
      "     -------------------------------------- 134.9/134.9 kB 7.8 MB/s eta 0:00:00\n",
      "Collecting jsonschema>=3.0\n",
      "  Downloading jsonschema-4.23.0-py3-none-any.whl (88 kB)\n",
      "     ---------------------------------------- 88.5/88.5 kB 4.9 MB/s eta 0:00:00\n",
      "Collecting narwhals>=1.14.2\n",
      "  Downloading narwhals-1.35.0-py3-none-any.whl (325 kB)\n",
      "     ------------------------------------- 325.7/325.7 kB 19.7 MB/s eta 0:00:00\n",
      "Requirement already satisfied: colorama in c:\\users\\ayush\\appdata\\roaming\\python\\python310\\site-packages (from click<9,>=7.0->streamlit) (0.4.6)\n",
      "Collecting gitdb<5,>=4.0.1\n",
      "  Downloading gitdb-4.0.12-py3-none-any.whl (62 kB)\n",
      "     ---------------------------------------- 62.8/62.8 kB 3.3 MB/s eta 0:00:00\n",
      "Requirement already satisfied: tzdata>=2022.7 in c:\\users\\ayush\\appdata\\local\\programs\\python\\python310\\lib\\site-packages (from pandas<3,>=1.4.0->streamlit) (2025.1)\n",
      "Requirement already satisfied: pytz>=2020.1 in c:\\users\\ayush\\appdata\\local\\programs\\python\\python310\\lib\\site-packages (from pandas<3,>=1.4.0->streamlit) (2025.1)\n",
      "Requirement already satisfied: python-dateutil>=2.8.2 in c:\\users\\ayush\\appdata\\roaming\\python\\python310\\site-packages (from pandas<3,>=1.4.0->streamlit) (2.9.0.post0)\n",
      "Collecting certifi>=2017.4.17\n",
      "  Downloading certifi-2025.1.31-py3-none-any.whl (166 kB)\n",
      "     ---------------------------------------- 166.4/166.4 kB ? eta 0:00:00\n",
      "Collecting urllib3<3,>=1.21.1\n",
      "  Downloading urllib3-2.4.0-py3-none-any.whl (128 kB)\n",
      "     -------------------------------------- 128.7/128.7 kB 7.4 MB/s eta 0:00:00\n",
      "Collecting charset-normalizer<4,>=2\n",
      "  Downloading charset_normalizer-3.4.1-cp310-cp310-win_amd64.whl (102 kB)\n",
      "     -------------------------------------- 102.8/102.8 kB 6.2 MB/s eta 0:00:00\n",
      "Collecting idna<4,>=2.5\n",
      "  Downloading idna-3.10-py3-none-any.whl (70 kB)\n",
      "     ---------------------------------------- 70.4/70.4 kB 4.0 MB/s eta 0:00:00\n",
      "Collecting smmap<6,>=3.0.1\n",
      "  Downloading smmap-5.0.2-py3-none-any.whl (24 kB)\n",
      "Collecting MarkupSafe>=2.0\n",
      "  Downloading MarkupSafe-3.0.2-cp310-cp310-win_amd64.whl (15 kB)\n",
      "Collecting referencing>=0.28.4\n",
      "  Downloading referencing-0.36.2-py3-none-any.whl (26 kB)\n",
      "Collecting jsonschema-specifications>=2023.03.6\n",
      "  Downloading jsonschema_specifications-2024.10.1-py3-none-any.whl (18 kB)\n",
      "Collecting attrs>=22.2.0\n",
      "  Downloading attrs-25.3.0-py3-none-any.whl (63 kB)\n",
      "     ---------------------------------------- 63.8/63.8 kB 3.6 MB/s eta 0:00:00\n",
      "Collecting rpds-py>=0.7.1\n",
      "  Downloading rpds_py-0.24.0-cp310-cp310-win_amd64.whl (234 kB)\n",
      "     ------------------------------------- 234.6/234.6 kB 14.0 MB/s eta 0:00:00\n",
      "Requirement already satisfied: six>=1.5 in c:\\users\\ayush\\appdata\\roaming\\python\\python310\\site-packages (from python-dateutil>=2.8.2->pandas<3,>=1.4.0->streamlit) (1.17.0)\n",
      "Installing collected packages: watchdog, urllib3, toml, tenacity, smmap, rpds-py, pyarrow, protobuf, narwhals, MarkupSafe, idna, charset-normalizer, certifi, cachetools, blinker, attrs, requests, referencing, jinja2, gitdb, pydeck, jsonschema-specifications, gitpython, jsonschema, altair, streamlit\n",
      "Successfully installed MarkupSafe-3.0.2 altair-5.5.0 attrs-25.3.0 blinker-1.9.0 cachetools-5.5.2 certifi-2025.1.31 charset-normalizer-3.4.1 gitdb-4.0.12 gitpython-3.1.44 idna-3.10 jinja2-3.1.6 jsonschema-4.23.0 jsonschema-specifications-2024.10.1 narwhals-1.35.0 protobuf-5.29.4 pyarrow-19.0.1 pydeck-0.9.1 referencing-0.36.2 requests-2.32.3 rpds-py-0.24.0 smmap-5.0.2 streamlit-1.44.1 tenacity-9.1.2 toml-0.10.2 urllib3-2.4.0 watchdog-6.0.0\n",
      "Note: you may need to restart the kernel to use updated packages.\n"
     ]
    },
    {
     "name": "stderr",
     "output_type": "stream",
     "text": [
      "\n",
      "[notice] A new release of pip available: 22.2.1 -> 25.0.1\n",
      "[notice] To update, run: python.exe -m pip install --upgrade pip\n"
     ]
    }
   ],
   "source": [
    "pip install streamlit\n"
   ]
  },
  {
   "cell_type": "code",
   "execution_count": null,
   "id": "3c55fa6d",
   "metadata": {},
   "outputs": [],
   "source": []
  }
 ],
 "metadata": {
  "kernelspec": {
   "display_name": "Python 3",
   "language": "python",
   "name": "python3"
  },
  "language_info": {
   "codemirror_mode": {
    "name": "ipython",
    "version": 3
   },
   "file_extension": ".py",
   "mimetype": "text/x-python",
   "name": "python",
   "nbconvert_exporter": "python",
   "pygments_lexer": "ipython3",
   "version": "3.10.6"
  }
 },
 "nbformat": 4,
 "nbformat_minor": 5
}
